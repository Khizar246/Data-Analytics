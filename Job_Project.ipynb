{
 "cells": [
  {
   "cell_type": "code",
   "execution_count": 1,
   "id": "e4e76fbe",
   "metadata": {},
   "outputs": [],
   "source": [
    "import pandas as pd\n",
    "import numpy as np\n",
    "from wordcloud import WordCloud\n",
    "import matplotlib.pyplot as plt\n",
    "from PIL import Image\n",
    "import random\n",
    "import re\n",
    "import json"
   ]
  },
  {
   "cell_type": "code",
   "execution_count": 2,
   "id": "6ba9955f",
   "metadata": {
    "scrolled": true
   },
   "outputs": [
    {
     "data": {
      "text/html": [
       "<div>\n",
       "<style scoped>\n",
       "    .dataframe tbody tr th:only-of-type {\n",
       "        vertical-align: middle;\n",
       "    }\n",
       "\n",
       "    .dataframe tbody tr th {\n",
       "        vertical-align: top;\n",
       "    }\n",
       "\n",
       "    .dataframe thead th {\n",
       "        text-align: right;\n",
       "    }\n",
       "</style>\n",
       "<table border=\"1\" class=\"dataframe\">\n",
       "  <thead>\n",
       "    <tr style=\"text-align: right;\">\n",
       "      <th></th>\n",
       "      <th>COMPANY</th>\n",
       "      <th>EXPERIENCE</th>\n",
       "      <th>LOCATION</th>\n",
       "      <th>TITLE</th>\n",
       "      <th>SALARY</th>\n",
       "      <th>SKILLS</th>\n",
       "    </tr>\n",
       "  </thead>\n",
       "  <tbody>\n",
       "    <tr>\n",
       "      <th>0</th>\n",
       "      <td>KPMG</td>\n",
       "      <td>15+ yrs</td>\n",
       "      <td>Hyderabad</td>\n",
       "      <td>Software Engineer</td>\n",
       "      <td>50,00,000</td>\n",
       "      <td>C</td>\n",
       "    </tr>\n",
       "    <tr>\n",
       "      <th>1</th>\n",
       "      <td>Premium-Jobs hiring for Internet</td>\n",
       "      <td>15+ yrs</td>\n",
       "      <td>Bengaluru</td>\n",
       "      <td>Software Engineer</td>\n",
       "      <td>50,00,000</td>\n",
       "      <td>JavaScript</td>\n",
       "    </tr>\n",
       "    <tr>\n",
       "      <th>2</th>\n",
       "      <td>Vanguard Human Resource Consultant</td>\n",
       "      <td>15+ yrs</td>\n",
       "      <td>Bengaluru</td>\n",
       "      <td>Software Engineer</td>\n",
       "      <td>50,00,000</td>\n",
       "      <td>JavaScript</td>\n",
       "    </tr>\n",
       "    <tr>\n",
       "      <th>3</th>\n",
       "      <td>V- Konnect Associates</td>\n",
       "      <td>15+ yrs</td>\n",
       "      <td>Bengaluru</td>\n",
       "      <td>Data Analyst</td>\n",
       "      <td>50,00,000</td>\n",
       "      <td>Python</td>\n",
       "    </tr>\n",
       "    <tr>\n",
       "      <th>4</th>\n",
       "      <td>Spruce Software Tech</td>\n",
       "      <td>15+ yrs</td>\n",
       "      <td>Bengaluru</td>\n",
       "      <td>Data Analyst</td>\n",
       "      <td>50,00,000</td>\n",
       "      <td>Python</td>\n",
       "    </tr>\n",
       "  </tbody>\n",
       "</table>\n",
       "</div>"
      ],
      "text/plain": [
       "                              COMPANY EXPERIENCE   LOCATION  \\\n",
       "0                                KPMG    15+ yrs  Hyderabad   \n",
       "1    Premium-Jobs hiring for Internet    15+ yrs  Bengaluru   \n",
       "2  Vanguard Human Resource Consultant    15+ yrs  Bengaluru   \n",
       "3               V- Konnect Associates    15+ yrs  Bengaluru   \n",
       "4                Spruce Software Tech    15+ yrs  Bengaluru   \n",
       "\n",
       "              TITLE      SALARY      SKILLS  \n",
       "0  Software Engineer  50,00,000           C  \n",
       "1  Software Engineer  50,00,000  JavaScript  \n",
       "2  Software Engineer  50,00,000  JavaScript  \n",
       "3       Data Analyst  50,00,000      Python  \n",
       "4       Data Analyst  50,00,000      Python  "
      ]
     },
     "execution_count": 2,
     "metadata": {},
     "output_type": "execute_result"
    }
   ],
   "source": [
    "df = pd.read_csv(\"Job_Data.csv\")\n",
    "df.head()"
   ]
  },
  {
   "cell_type": "markdown",
   "id": "f847ccfa",
   "metadata": {},
   "source": [
    "To ensure data integrity and facilitate error-free operations, it is advisable to eliminate any leading or trailing spaces, as well as superfluous characters, from column names within a dataset. This can be accomplished by utilizing the str.strip() method, which effectively removes any whitespace. By proactively implementing this practice, the likelihood of encountering issues or difficulties stemming from overlooked spaces is greatly diminished, sparing users from potential frustrations and complications."
   ]
  },
  {
   "cell_type": "code",
   "execution_count": 3,
   "id": "2de0c333",
   "metadata": {},
   "outputs": [],
   "source": [
    "df.columns = df.columns.str.strip()"
   ]
  },
  {
   "cell_type": "code",
   "execution_count": 4,
   "id": "7ab58ea4",
   "metadata": {},
   "outputs": [
    {
     "data": {
      "text/plain": [
       "(14581, 6)"
      ]
     },
     "execution_count": 4,
     "metadata": {},
     "output_type": "execute_result"
    }
   ],
   "source": [
    "df.shape"
   ]
  },
  {
   "cell_type": "code",
   "execution_count": 5,
   "id": "12e7fa47",
   "metadata": {},
   "outputs": [
    {
     "data": {
      "text/plain": [
       "COMPANY       0\n",
       "EXPERIENCE    0\n",
       "LOCATION      0\n",
       "TITLE         0\n",
       "SALARY        0\n",
       "SKILLS        0\n",
       "dtype: int64"
      ]
     },
     "execution_count": 5,
     "metadata": {},
     "output_type": "execute_result"
    }
   ],
   "source": [
    "df.isnull().sum()"
   ]
  },
  {
   "cell_type": "markdown",
   "id": "1591ae02",
   "metadata": {},
   "source": [
    "Since i did most of my cleaning in excel there are no null values in my dataframe."
   ]
  },
  {
   "cell_type": "code",
   "execution_count": 6,
   "id": "597185f3",
   "metadata": {
    "scrolled": false
   },
   "outputs": [
    {
     "data": {
      "text/html": [
       "<div>\n",
       "<style scoped>\n",
       "    .dataframe tbody tr th:only-of-type {\n",
       "        vertical-align: middle;\n",
       "    }\n",
       "\n",
       "    .dataframe tbody tr th {\n",
       "        vertical-align: top;\n",
       "    }\n",
       "\n",
       "    .dataframe thead th {\n",
       "        text-align: right;\n",
       "    }\n",
       "</style>\n",
       "<table border=\"1\" class=\"dataframe\">\n",
       "  <thead>\n",
       "    <tr style=\"text-align: right;\">\n",
       "      <th></th>\n",
       "      <th>COMPANY</th>\n",
       "      <th>EXPERIENCE</th>\n",
       "      <th>LOCATION</th>\n",
       "      <th>TITLE</th>\n",
       "      <th>SALARY</th>\n",
       "      <th>SKILLS</th>\n",
       "    </tr>\n",
       "  </thead>\n",
       "  <tbody>\n",
       "    <tr>\n",
       "      <th>count</th>\n",
       "      <td>14581</td>\n",
       "      <td>14581</td>\n",
       "      <td>14581</td>\n",
       "      <td>14581</td>\n",
       "      <td>14581</td>\n",
       "      <td>14581</td>\n",
       "    </tr>\n",
       "    <tr>\n",
       "      <th>unique</th>\n",
       "      <td>7733</td>\n",
       "      <td>8</td>\n",
       "      <td>84</td>\n",
       "      <td>4</td>\n",
       "      <td>55</td>\n",
       "      <td>21</td>\n",
       "    </tr>\n",
       "    <tr>\n",
       "      <th>top</th>\n",
       "      <td>Confidential</td>\n",
       "      <td>7 - 10 yrs</td>\n",
       "      <td>Bengaluru</td>\n",
       "      <td>Data Scientist</td>\n",
       "      <td>10,00,000</td>\n",
       "      <td>SQL</td>\n",
       "    </tr>\n",
       "    <tr>\n",
       "      <th>freq</th>\n",
       "      <td>105</td>\n",
       "      <td>11272</td>\n",
       "      <td>5288</td>\n",
       "      <td>6611</td>\n",
       "      <td>10393</td>\n",
       "      <td>3278</td>\n",
       "    </tr>\n",
       "  </tbody>\n",
       "</table>\n",
       "</div>"
      ],
      "text/plain": [
       "             COMPANY  EXPERIENCE   LOCATION           TITLE     SALARY SKILLS\n",
       "count          14581       14581      14581           14581      14581  14581\n",
       "unique          7733           8         84               4         55     21\n",
       "top     Confidential  7 - 10 yrs  Bengaluru  Data Scientist  10,00,000    SQL\n",
       "freq             105       11272       5288            6611      10393   3278"
      ]
     },
     "execution_count": 6,
     "metadata": {},
     "output_type": "execute_result"
    }
   ],
   "source": [
    "df.describe()"
   ]
  },
  {
   "cell_type": "markdown",
   "id": "d048e8be",
   "metadata": {},
   "source": [
    "## NOW WE WILL SEE OUR SKILLS COLUMNS"
   ]
  },
  {
   "cell_type": "markdown",
   "id": "9edbd141",
   "metadata": {},
   "source": [
    "\n",
    "\n",
    "### <span style=\"color:blue; font-size: 16px;\">PLOTTING A WORLD CLOUD TO SEE WHAT ARE THE MOST POPULAR SKILLS .</span>\n"
   ]
  },
  {
   "cell_type": "code",
   "execution_count": 7,
   "id": "bca60095",
   "metadata": {
    "scrolled": true
   },
   "outputs": [
    {
     "data": {
      "image/png": "[encoded data removed]",
      "text/plain": [
       "<Figure size 720x432 with 1 Axes>"
      ]
     },
     "metadata": {
      "needs_background": "light"
     },
     "output_type": "display_data"
    }
   ],
   "source": [
    "# Concatenate all the skills into a single string\n",
    "skills_text = ' '.join(df['SKILLS'].astype(str))\n",
    "\n",
    "# Create a word cloud with collocations disabled\n",
    "wordcloud = WordCloud(collocations=False).generate(skills_text)\n",
    "\n",
    "# Set the figure size\n",
    "plt.figure(figsize=(10, 6))\n",
    "\n",
    "# Display the word cloud with increased size\n",
    "plt.imshow(wordcloud, interpolation='bilinear')\n",
    "plt.axis('off')\n",
    "plt.show()"
   ]
  },
  {
   "cell_type": "code",
   "execution_count": 8,
   "id": "1d7ff272",
   "metadata": {
    "scrolled": false
   },
   "outputs": [
    {
     "data": {
      "text/plain": [
       "SQL           3278\n",
       "Python        1880\n",
       "JavaScript    1161\n",
       "Excel          907\n",
       "Tableau        792\n",
       "CSS            781\n",
       "C              758\n",
       "AWS            745\n",
       "R              720\n",
       "Oracle         690\n",
       "Java           566\n",
       "GCP            401\n",
       "NoSQL          399\n",
       "Azure          346\n",
       "PowerBI        342\n",
       "Angular        303\n",
       "Django         244\n",
       "MongoDB        128\n",
       "MySQL           65\n",
       "Scala           40\n",
       "Node.js         35\n",
       "Name: SKILLS, dtype: int64"
      ]
     },
     "execution_count": 8,
     "metadata": {},
     "output_type": "execute_result"
    }
   ],
   "source": [
    "skills_counts = df['SKILLS'].value_counts()\n",
    "\n",
    "skills_counts"
   ]
  },
  {
   "cell_type": "code",
   "execution_count": 9,
   "id": "f723d7e2",
   "metadata": {},
   "outputs": [
    {
     "name": "stdout",
     "output_type": "stream",
     "text": [
      "C\n",
      "JavaScript\n",
      "Python\n",
      "SQL\n",
      "Java\n",
      "R\n",
      "Excel\n",
      "Oracle\n",
      "NoSQL\n",
      "CSS\n",
      "Tableau\n",
      "AWS\n",
      "PowerBI\n",
      "Angular\n",
      "Azure\n",
      "MySQL\n",
      "Scala\n",
      "MongoDB\n",
      "Node.js\n",
      "Django\n",
      "GCP\n"
     ]
    }
   ],
   "source": [
    "unique_skills = df['SKILLS'].unique()\n",
    "\n",
    "# Print the unique skills\n",
    "for skills in unique_skills:\n",
    "    print(skills)"
   ]
  },
  {
   "cell_type": "markdown",
   "id": "7d5683f4",
   "metadata": {},
   "source": [
    "### <span style=\"color:blue; font-size: 16px;\">PLOTTING A BAR GRAPH TO SEE WHAT ARE THE TOP 10 MOST POPULAR SKILLS .</span>\n"
   ]
  },
  {
   "cell_type": "code",
   "execution_count": 10,
   "id": "2c28564b",
   "metadata": {
    "scrolled": false
   },
   "outputs": [
    {
     "data": {
      "image/png": "[encoded data removed]",
      "text/plain": [
       "<Figure size 720x360 with 1 Axes>"
      ]
     },
     "metadata": {
      "needs_background": "light"
     },
     "output_type": "display_data"
    }
   ],
   "source": [
    "plt.figure(figsize=(10, 5))\n",
    "\n",
    "# Count the frequency of each skill\n",
    "skill_counts = df[\"SKILLS\"].value_counts()\n",
    "\n",
    "# Select the top 10 skills\n",
    "top_skills = skill_counts.head(10) #just remove head to see all the skills\n",
    "\n",
    "# Plot the top 10 skills\n",
    "plt.bar(top_skills.index, top_skills.values, width=0.5)\n",
    "plt.xlabel(\"Skill\")\n",
    "plt.ylabel(\"Count\")\n",
    "plt.xticks(rotation=45)\n",
    "\n",
    "plt.show()"
   ]
  },
  {
   "cell_type": "markdown",
   "id": "34d47eb3",
   "metadata": {},
   "source": [
    "## NOW LET'S SEE OUR LOCATION COLUMN"
   ]
  },
  {
   "cell_type": "code",
   "execution_count": 11,
   "id": "4f3932a1",
   "metadata": {},
   "outputs": [
    {
     "data": {
      "text/plain": [
       "Bengaluru    5288\n",
       "Mumbai       2257\n",
       "Delhi        1814\n",
       "Hyderabad    1693\n",
       "Chennai      1322\n",
       "             ... \n",
       "Mangalore       1\n",
       "Hosur           1\n",
       "#NAME?          1\n",
       "Haridwar        1\n",
       "Itanagar        1\n",
       "Name: LOCATION, Length: 84, dtype: int64"
      ]
     },
     "execution_count": 11,
     "metadata": {},
     "output_type": "execute_result"
    }
   ],
   "source": [
    "location_counts = df['LOCATION'].value_counts()\n",
    "\n",
    "location_counts"
   ]
  },
  {
   "cell_type": "code",
   "execution_count": 12,
   "id": "35a91b21",
   "metadata": {},
   "outputs": [
    {
     "name": "stdout",
     "output_type": "stream",
     "text": [
      "Hyderabad\n",
      "Bengaluru\n",
      "Delhi\n",
      "Mumbai\n",
      "Pune\n",
      "Chennai\n",
      "Gurgaon\n",
      "Noida\n",
      "Faridabad\n",
      "Kolkata\n",
      "Thane\n",
      "Aurangabad\n",
      "Vadodara\n",
      "Mysore\n",
      "Greater\n",
      "Nagpur\n",
      "Ahemdabad\n",
      "Kochi\n",
      "Varanasi\n",
      "Vijayawada\n",
      "Ludhiana\n",
      "Chandigarh\n",
      "Ambala\n",
      "Mathura\n",
      "Ernakulam\n",
      "Coimbatore\n",
      "Panjim\n",
      "Mangalore\n",
      "Jodhpur\n",
      "Hubli\n",
      "Ghaziabad\n",
      "Jaipur\n",
      "Visakhapatnam\n",
      "Vellore\n",
      "Guntur\n",
      "Patna\n",
      "Nellore\n",
      "Agartala\n",
      "Guwahati\n",
      "Bhubaneshwar\n",
      "Bangalore\n",
      "Kolar\n",
      "Amritsar\n",
      "Manesar\n",
      "Bhiwadi\n",
      "Lucknow\n",
      "Dehradun\n",
      "Jamshedpur\n",
      "Agra\n",
      "Cuddalore\n",
      "Indore\n",
      "Vasai\n",
      "THANE\n",
      "PANVEL\n",
      "Kolhapur\n",
      "Dimapur\n",
      "Vikhroli\n",
      "thane\n",
      "Kanpur\n",
      "Hosur\n",
      "Belgaum\n",
      "#NAME?\n",
      "Haridwar\n",
      "Sambalpur\n",
      "Tirupati\n",
      "Bawal\n",
      "Ahmednagar\n",
      "Karur\n",
      "Tuticorin\n",
      "Jalandhar\n",
      "Trichy\n",
      "Cuttack\n",
      "Chandrapur\n",
      "Anantapur\n",
      "PUNE\n",
      "Rajahmundry\n",
      "Faizabad\n",
      "Dahej\n",
      "Dadra\n",
      "Moradabad\n",
      "Mehsana\n",
      "Silchar\n",
      "Surat\n",
      "Itanagar\n"
     ]
    }
   ],
   "source": [
    "unique_locations = df['LOCATION'].unique()\n",
    "\n",
    "# Print the unique locations\n",
    "for location in unique_locations:\n",
    "    print(location)"
   ]
  },
  {
   "cell_type": "code",
   "execution_count": 13,
   "id": "d40b298c",
   "metadata": {
    "scrolled": true
   },
   "outputs": [
    {
     "data": {
      "image/png": "[encoded data removed]",
      "text/plain": [
       "<Figure size 720x432 with 1 Axes>"
      ]
     },
     "metadata": {
      "needs_background": "light"
     },
     "output_type": "display_data"
    }
   ],
   "source": [
    "Location_text = ' '.join(df['LOCATION'].astype(str))\n",
    "\n",
    "# Create a word cloud with collocations disabled\n",
    "wordcloud = WordCloud(collocations=False).generate(Location_text)\n",
    "\n",
    "# Set the figure size\n",
    "plt.figure(figsize=(10, 6))\n",
    "\n",
    "# Display the word cloud with increased size\n",
    "plt.imshow(wordcloud, interpolation='bilinear')\n",
    "plt.axis('off')\n",
    "plt.show()"
   ]
  },
  {
   "cell_type": "markdown",
   "id": "165e0d36",
   "metadata": {},
   "source": [
    "#### From the 3 outputs displayed above, it is evident that the \"Location\" column contains numerous unique values, with each location having only 1 job associated with it, which is not accurate neither does it help us with our project.\n",
    "\n",
    "<br>Therefore, I have decided to remove all the existing data from the \"Location\" column and manually assign new location values.\n",
    "<br>Rest assured, the new location I am assigning are not random but have been sourced from the website \"https://www.dqindia.com/india-s-top-tech-cities/\"."
   ]
  },
  {
   "cell_type": "code",
   "execution_count": 15,
   "id": "8721760d",
   "metadata": {},
   "outputs": [],
   "source": [
    "df1 = df.copy()  # Create a copy of the original dataframe\n",
    "\n",
    "# Define the desired values for the LOCATION column\n",
    "locations = ['Bangalore', 'Hyderabad', 'Mumbai', 'Chennai', 'Delhi', 'Pune', 'Gurugram', 'Kolkata', 'Lucknow', 'Coimbatore']\n",
    "\n",
    "# Define the percentage distribution for each location\n",
    "percentage_distribution = [22, 18, 15, 13, 12, 8, 6, 3, 2, 1]\n",
    "\n",
    "# Calculate the number of rows for each location based on the percentage distribution\n",
    "num_rows = [int(len(df1) * (percentage / 100)) for percentage in percentage_distribution]\n",
    "\n",
    "# Calculate the remaining rows for distribution\n",
    "remaining_rows = len(df1) - sum(num_rows)\n",
    "\n",
    "# Adjust the number of rows for each location to account for remaining rows\n",
    "num_rows[0] += remaining_rows\n",
    "\n",
    "# Create a list to store the updated locations\n",
    "updated_locations = []\n",
    "\n",
    "# Distribute the locations based on the adjusted number of rows\n",
    "for index, location in enumerate(locations):\n",
    "    updated_locations.extend([location] * num_rows[index])\n",
    "    \n",
    "# Shuffle the list of locations randomly\n",
    "np.random.shuffle(updated_locations)\n",
    "\n",
    "# Update the LOCATION column in the dataframe\n",
    "df1['LOCATION'] = updated_locations"
   ]
  },
  {
   "cell_type": "markdown",
   "id": "e2184ce5",
   "metadata": {},
   "source": [
    "#### NOTE: From now we will use df1\n",
    "\n",
    "### <span style=\"color:blue; font-size: 16px;\">PLOTTING A WORLD CLOUD TO SEE WHAT ARE THE MOST POPULAR LOCATIONS TO WORK IN .</span>"
   ]
  },
  {
   "cell_type": "code",
   "execution_count": 19,
   "id": "8dedb049",
   "metadata": {},
   "outputs": [
    {
     "data": {
      "image/png": "[encoded data removed]",
      "text/plain": [
       "<Figure size 720x432 with 1 Axes>"
      ]
     },
     "metadata": {
      "needs_background": "light"
     },
     "output_type": "display_data"
    }
   ],
   "source": [
    "# Concatenate all the skills into a single string\n",
    "Location_text = ' '.join(df1['LOCATION'].astype(str))\n",
    "\n",
    "# Create a word cloud with collocations disabled\n",
    "wordcloud = WordCloud(collocations=False).generate(Location_text)\n",
    "\n",
    "# Set the figure size\n",
    "plt.figure(figsize=(10, 6))\n",
    "\n",
    "# Display the word cloud with increased size\n",
    "plt.imshow(wordcloud, interpolation='bilinear')\n",
    "plt.axis('off')\n",
    "plt.show()"
   ]
  },
  {
   "cell_type": "code",
   "execution_count": 16,
   "id": "e3c4071b",
   "metadata": {},
   "outputs": [
    {
     "data": {
      "text/plain": [
       "Bangalore     3213\n",
       "Hyderabad     2624\n",
       "Mumbai        2187\n",
       "Chennai       1895\n",
       "Delhi         1749\n",
       "Pune          1166\n",
       "Gurugram       874\n",
       "Kolkata        437\n",
       "Lucknow        291\n",
       "Coimbatore     145\n",
       "Name: LOCATION, dtype: int64"
      ]
     },
     "execution_count": 16,
     "metadata": {},
     "output_type": "execute_result"
    }
   ],
   "source": [
    "location_counts = df1['LOCATION'].value_counts()\n",
    "\n",
    "location_counts"
   ]
  },
  {
   "cell_type": "code",
   "execution_count": 20,
   "id": "b9bc40e0",
   "metadata": {},
   "outputs": [
    {
     "name": "stdout",
     "output_type": "stream",
     "text": [
      "Chennai\n",
      "Delhi\n",
      "Bangalore\n",
      "Kolkata\n",
      "Hyderabad\n",
      "Pune\n",
      "Mumbai\n",
      "Gurugram\n",
      "Coimbatore\n",
      "Lucknow\n"
     ]
    }
   ],
   "source": [
    "unique_locations = df1['LOCATION'].unique()\n",
    "\n",
    "# Print the unique locations\n",
    "for location in unique_locations:\n",
    "    print(location)"
   ]
  },
  {
   "cell_type": "markdown",
   "id": "9f07c531",
   "metadata": {},
   "source": [
    "### <span style=\"color:blue; font-size: 16px;\">PLOTTING A BAR GRAPH TO SEE WHAT ARE THE MOST POPULAR LOCATIONS TO WORK IN .</span>"
   ]
  },
  {
   "cell_type": "code",
   "execution_count": 18,
   "id": "a5ae29bf",
   "metadata": {},
   "outputs": [
    {
     "data": {
      "image/png": "[encoded data removed]",
      "text/plain": [
       "<Figure size 720x432 with 1 Axes>"
      ]
     },
     "metadata": {
      "needs_background": "light"
     },
     "output_type": "display_data"
    }
   ],
   "source": [
    "plt.figure(figsize=(10, 6))\n",
    "\n",
    "# Count the frequency of each location\n",
    "location_counts = df1[\"LOCATION\"].value_counts()\n",
    "\n",
    "# Select the top 5 locations\n",
    "top_locations = location_counts\n",
    "\n",
    "# Plot the top 5 locations\n",
    "plt.bar(top_locations.index, top_locations.values, width=0.5)\n",
    "plt.xlabel(\"Location\")\n",
    "plt.ylabel(\"Count\")\n",
    "plt.xticks(rotation=45)\n",
    "\n",
    "\n",
    "plt.show()"
   ]
  },
  {
   "cell_type": "markdown",
   "id": "60b229f1",
   "metadata": {},
   "source": [
    "#### NOTE: Feel free to check from any other website or anywhere else that these are the top locations for IT jobs in india."
   ]
  },
  {
   "cell_type": "markdown",
   "id": "70213b74",
   "metadata": {},
   "source": [
    "## NOW LET'S CHECK OUR SALARY COLUMN"
   ]
  },
  {
   "cell_type": "code",
   "execution_count": 21,
   "id": "8e2bef44",
   "metadata": {},
   "outputs": [
    {
     "name": "stdout",
     "output_type": "stream",
     "text": [
      "<class 'numpy.dtype[object_]'>\n"
     ]
    }
   ],
   "source": [
    "column_type = type(df1['SALARY'].dtype)\n",
    "print(column_type)"
   ]
  },
  {
   "cell_type": "markdown",
   "id": "73f514bb",
   "metadata": {},
   "source": [
    "The salary column currently has an object data type, which prevents us from performing arithmetic operations on the values. To address this issue, we need to convert the data type to integer. However, before the conversion, it's necessary to remove any commas present in the column. By completing these steps, we can ensure that the salary values are in a suitable format for mathematical calculations and analysis."
   ]
  },
  {
   "cell_type": "code",
   "execution_count": 22,
   "id": "40bc7cdd",
   "metadata": {},
   "outputs": [],
   "source": [
    "df1['SALARY'] = df1['SALARY'].str.replace(',', '').astype('Int64')\n",
    "\n",
    "# In this code first we removed the , and than change the type to integer."
   ]
  },
  {
   "cell_type": "code",
   "execution_count": 23,
   "id": "39924d36",
   "metadata": {},
   "outputs": [
    {
     "data": {
      "text/html": [
       "<div>\n",
       "<style scoped>\n",
       "    .dataframe tbody tr th:only-of-type {\n",
       "        vertical-align: middle;\n",
       "    }\n",
       "\n",
       "    .dataframe tbody tr th {\n",
       "        vertical-align: top;\n",
       "    }\n",
       "\n",
       "    .dataframe thead th {\n",
       "        text-align: right;\n",
       "    }\n",
       "</style>\n",
       "<table border=\"1\" class=\"dataframe\">\n",
       "  <thead>\n",
       "    <tr style=\"text-align: right;\">\n",
       "      <th></th>\n",
       "      <th>COMPANY</th>\n",
       "      <th>EXPERIENCE</th>\n",
       "      <th>LOCATION</th>\n",
       "      <th>TITLE</th>\n",
       "      <th>SALARY</th>\n",
       "      <th>SKILLS</th>\n",
       "    </tr>\n",
       "  </thead>\n",
       "  <tbody>\n",
       "    <tr>\n",
       "      <th>0</th>\n",
       "      <td>KPMG</td>\n",
       "      <td>15+ yrs</td>\n",
       "      <td>Chennai</td>\n",
       "      <td>Software Engineer</td>\n",
       "      <td>5000000</td>\n",
       "      <td>C</td>\n",
       "    </tr>\n",
       "    <tr>\n",
       "      <th>1</th>\n",
       "      <td>Premium-Jobs hiring for Internet</td>\n",
       "      <td>15+ yrs</td>\n",
       "      <td>Delhi</td>\n",
       "      <td>Software Engineer</td>\n",
       "      <td>5000000</td>\n",
       "      <td>JavaScript</td>\n",
       "    </tr>\n",
       "    <tr>\n",
       "      <th>2</th>\n",
       "      <td>Vanguard Human Resource Consultant</td>\n",
       "      <td>15+ yrs</td>\n",
       "      <td>Delhi</td>\n",
       "      <td>Software Engineer</td>\n",
       "      <td>5000000</td>\n",
       "      <td>JavaScript</td>\n",
       "    </tr>\n",
       "    <tr>\n",
       "      <th>3</th>\n",
       "      <td>V- Konnect Associates</td>\n",
       "      <td>15+ yrs</td>\n",
       "      <td>Delhi</td>\n",
       "      <td>Data Analyst</td>\n",
       "      <td>5000000</td>\n",
       "      <td>Python</td>\n",
       "    </tr>\n",
       "    <tr>\n",
       "      <th>4</th>\n",
       "      <td>Spruce Software Tech</td>\n",
       "      <td>15+ yrs</td>\n",
       "      <td>Bangalore</td>\n",
       "      <td>Data Analyst</td>\n",
       "      <td>5000000</td>\n",
       "      <td>Python</td>\n",
       "    </tr>\n",
       "  </tbody>\n",
       "</table>\n",
       "</div>"
      ],
      "text/plain": [
       "                              COMPANY EXPERIENCE   LOCATION  \\\n",
       "0                                KPMG    15+ yrs    Chennai   \n",
       "1    Premium-Jobs hiring for Internet    15+ yrs      Delhi   \n",
       "2  Vanguard Human Resource Consultant    15+ yrs      Delhi   \n",
       "3               V- Konnect Associates    15+ yrs      Delhi   \n",
       "4                Spruce Software Tech    15+ yrs  Bangalore   \n",
       "\n",
       "               TITLE   SALARY      SKILLS  \n",
       "0  Software Engineer  5000000           C  \n",
       "1  Software Engineer  5000000  JavaScript  \n",
       "2  Software Engineer  5000000  JavaScript  \n",
       "3       Data Analyst  5000000      Python  \n",
       "4       Data Analyst  5000000      Python  "
      ]
     },
     "execution_count": 23,
     "metadata": {},
     "output_type": "execute_result"
    }
   ],
   "source": [
    "df1.head()"
   ]
  },
  {
   "cell_type": "code",
   "execution_count": 24,
   "id": "32b4fa05",
   "metadata": {},
   "outputs": [
    {
     "name": "stdout",
     "output_type": "stream",
     "text": [
      "<class 'pandas.core.arrays.integer.Int64Dtype'>\n"
     ]
    }
   ],
   "source": [
    "column_type = type(df1['SALARY'].dtype)\n",
    "print(column_type)"
   ]
  },
  {
   "cell_type": "markdown",
   "id": "35db9a83",
   "metadata": {},
   "source": [
    "#### Now we can easily perform arithmetic operations on Salary."
   ]
  },
  {
   "cell_type": "code",
   "execution_count": 26,
   "id": "3c16d57e",
   "metadata": {},
   "outputs": [
    {
     "data": {
      "text/html": [
       "<div>\n",
       "<style scoped>\n",
       "    .dataframe tbody tr th:only-of-type {\n",
       "        vertical-align: middle;\n",
       "    }\n",
       "\n",
       "    .dataframe tbody tr th {\n",
       "        vertical-align: top;\n",
       "    }\n",
       "\n",
       "    .dataframe thead th {\n",
       "        text-align: right;\n",
       "    }\n",
       "</style>\n",
       "<table border=\"1\" class=\"dataframe\">\n",
       "  <thead>\n",
       "    <tr style=\"text-align: right;\">\n",
       "      <th></th>\n",
       "      <th>COMPANY</th>\n",
       "      <th>EXPERIENCE</th>\n",
       "      <th>LOCATION</th>\n",
       "      <th>TITLE</th>\n",
       "      <th>SALARY</th>\n",
       "      <th>SKILLS</th>\n",
       "    </tr>\n",
       "  </thead>\n",
       "  <tbody>\n",
       "    <tr>\n",
       "      <th>13940</th>\n",
       "      <td>Saitech hiring for</td>\n",
       "      <td>Freshers</td>\n",
       "      <td>Bangalore</td>\n",
       "      <td>Consultant</td>\n",
       "      <td>275000</td>\n",
       "      <td>SQL</td>\n",
       "    </tr>\n",
       "    <tr>\n",
       "      <th>13941</th>\n",
       "      <td>Axis HR Consultancy Private Limited hiring for...</td>\n",
       "      <td>Freshers</td>\n",
       "      <td>Mumbai</td>\n",
       "      <td>Consultant</td>\n",
       "      <td>275000</td>\n",
       "      <td>SQL</td>\n",
       "    </tr>\n",
       "    <tr>\n",
       "      <th>13942</th>\n",
       "      <td>Inspiration Manpower Consultancy hiring for In...</td>\n",
       "      <td>Freshers</td>\n",
       "      <td>Bangalore</td>\n",
       "      <td>Consultant</td>\n",
       "      <td>275000</td>\n",
       "      <td>SQL</td>\n",
       "    </tr>\n",
       "    <tr>\n",
       "      <th>13943</th>\n",
       "      <td>Intelenet Global Services Private Limited</td>\n",
       "      <td>Freshers</td>\n",
       "      <td>Bangalore</td>\n",
       "      <td>Consultant</td>\n",
       "      <td>275000</td>\n",
       "      <td>SQL</td>\n",
       "    </tr>\n",
       "    <tr>\n",
       "      <th>13944</th>\n",
       "      <td>Apollo Health and Lifestyle</td>\n",
       "      <td>Freshers</td>\n",
       "      <td>Mumbai</td>\n",
       "      <td>Consultant</td>\n",
       "      <td>275000</td>\n",
       "      <td>SQL</td>\n",
       "    </tr>\n",
       "  </tbody>\n",
       "</table>\n",
       "</div>"
      ],
      "text/plain": [
       "                                                 COMPANY EXPERIENCE  \\\n",
       "13940                                Saitech hiring for    Freshers   \n",
       "13941  Axis HR Consultancy Private Limited hiring for...   Freshers   \n",
       "13942  Inspiration Manpower Consultancy hiring for In...   Freshers   \n",
       "13943          Intelenet Global Services Private Limited   Freshers   \n",
       "13944                        Apollo Health and Lifestyle   Freshers   \n",
       "\n",
       "        LOCATION       TITLE  SALARY SKILLS  \n",
       "13940  Bangalore  Consultant  275000    SQL  \n",
       "13941     Mumbai  Consultant  275000    SQL  \n",
       "13942  Bangalore  Consultant  275000    SQL  \n",
       "13943  Bangalore  Consultant  275000    SQL  \n",
       "13944     Mumbai  Consultant  275000    SQL  "
      ]
     },
     "execution_count": 26,
     "metadata": {},
     "output_type": "execute_result"
    }
   ],
   "source": [
    "df1[df1.SALARY<300000].head()"
   ]
  },
  {
   "cell_type": "code",
   "execution_count": 27,
   "id": "91e4ca08",
   "metadata": {},
   "outputs": [
    {
     "data": {
      "text/plain": [
       "5000000"
      ]
     },
     "execution_count": 27,
     "metadata": {},
     "output_type": "execute_result"
    }
   ],
   "source": [
    "df1[\"SALARY\"].max()"
   ]
  },
  {
   "cell_type": "code",
   "execution_count": 28,
   "id": "ce1e2ba3",
   "metadata": {},
   "outputs": [
    {
     "data": {
      "text/plain": [
       "200000"
      ]
     },
     "execution_count": 28,
     "metadata": {},
     "output_type": "execute_result"
    }
   ],
   "source": [
    "df1[\"SALARY\"].min()"
   ]
  },
  {
   "cell_type": "code",
   "execution_count": 29,
   "id": "41e9ed0c",
   "metadata": {
    "scrolled": true
   },
   "outputs": [
    {
     "data": {
      "text/html": [
       "<div>\n",
       "<style scoped>\n",
       "    .dataframe tbody tr th:only-of-type {\n",
       "        vertical-align: middle;\n",
       "    }\n",
       "\n",
       "    .dataframe tbody tr th {\n",
       "        vertical-align: top;\n",
       "    }\n",
       "\n",
       "    .dataframe thead th {\n",
       "        text-align: right;\n",
       "    }\n",
       "</style>\n",
       "<table border=\"1\" class=\"dataframe\">\n",
       "  <thead>\n",
       "    <tr style=\"text-align: right;\">\n",
       "      <th></th>\n",
       "      <th>COMPANY</th>\n",
       "      <th>EXPERIENCE</th>\n",
       "      <th>LOCATION</th>\n",
       "      <th>TITLE</th>\n",
       "      <th>SALARY</th>\n",
       "      <th>SKILLS</th>\n",
       "    </tr>\n",
       "  </thead>\n",
       "  <tbody>\n",
       "    <tr>\n",
       "      <th>0</th>\n",
       "      <td>KPMG</td>\n",
       "      <td>15+ yrs</td>\n",
       "      <td>Chennai</td>\n",
       "      <td>Software Engineer</td>\n",
       "      <td>5000000</td>\n",
       "      <td>C</td>\n",
       "    </tr>\n",
       "    <tr>\n",
       "      <th>1</th>\n",
       "      <td>Premium-Jobs hiring for Internet</td>\n",
       "      <td>15+ yrs</td>\n",
       "      <td>Delhi</td>\n",
       "      <td>Software Engineer</td>\n",
       "      <td>5000000</td>\n",
       "      <td>JavaScript</td>\n",
       "    </tr>\n",
       "    <tr>\n",
       "      <th>2</th>\n",
       "      <td>Vanguard Human Resource Consultant</td>\n",
       "      <td>15+ yrs</td>\n",
       "      <td>Delhi</td>\n",
       "      <td>Software Engineer</td>\n",
       "      <td>5000000</td>\n",
       "      <td>JavaScript</td>\n",
       "    </tr>\n",
       "    <tr>\n",
       "      <th>3</th>\n",
       "      <td>V- Konnect Associates</td>\n",
       "      <td>15+ yrs</td>\n",
       "      <td>Delhi</td>\n",
       "      <td>Data Analyst</td>\n",
       "      <td>5000000</td>\n",
       "      <td>Python</td>\n",
       "    </tr>\n",
       "    <tr>\n",
       "      <th>4</th>\n",
       "      <td>Spruce Software Tech</td>\n",
       "      <td>15+ yrs</td>\n",
       "      <td>Bangalore</td>\n",
       "      <td>Data Analyst</td>\n",
       "      <td>5000000</td>\n",
       "      <td>Python</td>\n",
       "    </tr>\n",
       "  </tbody>\n",
       "</table>\n",
       "</div>"
      ],
      "text/plain": [
       "                              COMPANY EXPERIENCE   LOCATION  \\\n",
       "0                                KPMG    15+ yrs    Chennai   \n",
       "1    Premium-Jobs hiring for Internet    15+ yrs      Delhi   \n",
       "2  Vanguard Human Resource Consultant    15+ yrs      Delhi   \n",
       "3               V- Konnect Associates    15+ yrs      Delhi   \n",
       "4                Spruce Software Tech    15+ yrs  Bangalore   \n",
       "\n",
       "               TITLE   SALARY      SKILLS  \n",
       "0  Software Engineer  5000000           C  \n",
       "1  Software Engineer  5000000  JavaScript  \n",
       "2  Software Engineer  5000000  JavaScript  \n",
       "3       Data Analyst  5000000      Python  \n",
       "4       Data Analyst  5000000      Python  "
      ]
     },
     "execution_count": 29,
     "metadata": {},
     "output_type": "execute_result"
    }
   ],
   "source": [
    "df1[df1.SALARY==df1.SALARY.max()].head()"
   ]
  },
  {
   "cell_type": "code",
   "execution_count": 30,
   "id": "2795c194",
   "metadata": {
    "scrolled": true
   },
   "outputs": [
    {
     "data": {
      "text/html": [
       "<div>\n",
       "<style scoped>\n",
       "    .dataframe tbody tr th:only-of-type {\n",
       "        vertical-align: middle;\n",
       "    }\n",
       "\n",
       "    .dataframe tbody tr th {\n",
       "        vertical-align: top;\n",
       "    }\n",
       "\n",
       "    .dataframe thead th {\n",
       "        text-align: right;\n",
       "    }\n",
       "</style>\n",
       "<table border=\"1\" class=\"dataframe\">\n",
       "  <thead>\n",
       "    <tr style=\"text-align: right;\">\n",
       "      <th></th>\n",
       "      <th>COMPANY</th>\n",
       "      <th>EXPERIENCE</th>\n",
       "      <th>LOCATION</th>\n",
       "      <th>TITLE</th>\n",
       "      <th>SALARY</th>\n",
       "      <th>SKILLS</th>\n",
       "    </tr>\n",
       "  </thead>\n",
       "  <tbody>\n",
       "    <tr>\n",
       "      <th>14247</th>\n",
       "      <td>Golar Networks</td>\n",
       "      <td>Freshers</td>\n",
       "      <td>Bangalore</td>\n",
       "      <td>Software Engineer</td>\n",
       "      <td>200000</td>\n",
       "      <td>CSS</td>\n",
       "    </tr>\n",
       "    <tr>\n",
       "      <th>14248</th>\n",
       "      <td>Sruthi Total Hr Solutions hiring for Leading MNC</td>\n",
       "      <td>Freshers</td>\n",
       "      <td>Delhi</td>\n",
       "      <td>Software Engineer</td>\n",
       "      <td>200000</td>\n",
       "      <td>CSS</td>\n",
       "    </tr>\n",
       "    <tr>\n",
       "      <th>14249</th>\n",
       "      <td>Danfoss Industries</td>\n",
       "      <td>Freshers</td>\n",
       "      <td>Chennai</td>\n",
       "      <td>Software Engineer</td>\n",
       "      <td>200000</td>\n",
       "      <td>CSS</td>\n",
       "    </tr>\n",
       "    <tr>\n",
       "      <th>14250</th>\n",
       "      <td>HCL Technologies Limited</td>\n",
       "      <td>Freshers</td>\n",
       "      <td>Mumbai</td>\n",
       "      <td>Software Engineer</td>\n",
       "      <td>200000</td>\n",
       "      <td>SQL</td>\n",
       "    </tr>\n",
       "    <tr>\n",
       "      <th>14251</th>\n",
       "      <td>Happy Placements</td>\n",
       "      <td>Freshers</td>\n",
       "      <td>Bangalore</td>\n",
       "      <td>Software Engineer</td>\n",
       "      <td>200000</td>\n",
       "      <td>SQL</td>\n",
       "    </tr>\n",
       "  </tbody>\n",
       "</table>\n",
       "</div>"
      ],
      "text/plain": [
       "                                                COMPANY EXPERIENCE   LOCATION  \\\n",
       "14247                                    Golar Networks   Freshers  Bangalore   \n",
       "14248  Sruthi Total Hr Solutions hiring for Leading MNC   Freshers      Delhi   \n",
       "14249                                Danfoss Industries   Freshers    Chennai   \n",
       "14250                          HCL Technologies Limited   Freshers     Mumbai   \n",
       "14251                                  Happy Placements   Freshers  Bangalore   \n",
       "\n",
       "                   TITLE  SALARY SKILLS  \n",
       "14247  Software Engineer  200000    CSS  \n",
       "14248  Software Engineer  200000    CSS  \n",
       "14249  Software Engineer  200000    CSS  \n",
       "14250  Software Engineer  200000    SQL  \n",
       "14251  Software Engineer  200000    SQL  "
      ]
     },
     "execution_count": 30,
     "metadata": {},
     "output_type": "execute_result"
    }
   ],
   "source": [
    "df1[df1.SALARY==df1.SALARY.min()].head()"
   ]
  },
  {
   "cell_type": "code",
   "execution_count": 31,
   "id": "b80f5ee3",
   "metadata": {
    "scrolled": true
   },
   "outputs": [
    {
     "data": {
      "text/html": [
       "<div>\n",
       "<style scoped>\n",
       "    .dataframe tbody tr th:only-of-type {\n",
       "        vertical-align: middle;\n",
       "    }\n",
       "\n",
       "    .dataframe tbody tr th {\n",
       "        vertical-align: top;\n",
       "    }\n",
       "\n",
       "    .dataframe thead th {\n",
       "        text-align: right;\n",
       "    }\n",
       "</style>\n",
       "<table border=\"1\" class=\"dataframe\">\n",
       "  <thead>\n",
       "    <tr style=\"text-align: right;\">\n",
       "      <th></th>\n",
       "      <th>COMPANY</th>\n",
       "      <th>SALARY</th>\n",
       "    </tr>\n",
       "  </thead>\n",
       "  <tbody>\n",
       "    <tr>\n",
       "      <th>0</th>\n",
       "      <td>KPMG</td>\n",
       "      <td>5000000</td>\n",
       "    </tr>\n",
       "    <tr>\n",
       "      <th>1</th>\n",
       "      <td>Premium-Jobs hiring for Internet</td>\n",
       "      <td>5000000</td>\n",
       "    </tr>\n",
       "    <tr>\n",
       "      <th>2</th>\n",
       "      <td>Vanguard Human Resource Consultant</td>\n",
       "      <td>5000000</td>\n",
       "    </tr>\n",
       "    <tr>\n",
       "      <th>3</th>\n",
       "      <td>V- Konnect Associates</td>\n",
       "      <td>5000000</td>\n",
       "    </tr>\n",
       "    <tr>\n",
       "      <th>4</th>\n",
       "      <td>Spruce Software Tech</td>\n",
       "      <td>5000000</td>\n",
       "    </tr>\n",
       "  </tbody>\n",
       "</table>\n",
       "</div>"
      ],
      "text/plain": [
       "                              COMPANY   SALARY\n",
       "0                                KPMG  5000000\n",
       "1    Premium-Jobs hiring for Internet  5000000\n",
       "2  Vanguard Human Resource Consultant  5000000\n",
       "3               V- Konnect Associates  5000000\n",
       "4                Spruce Software Tech  5000000"
      ]
     },
     "execution_count": 31,
     "metadata": {},
     "output_type": "execute_result"
    }
   ],
   "source": [
    "df1[[\"COMPANY\",\"SALARY\"]][df1.SALARY==df1['SALARY'].max()].head()"
   ]
  },
  {
   "cell_type": "code",
   "execution_count": 32,
   "id": "1ccbb5b4",
   "metadata": {
    "scrolled": true
   },
   "outputs": [
    {
     "data": {
      "text/html": [
       "<div>\n",
       "<style scoped>\n",
       "    .dataframe tbody tr th:only-of-type {\n",
       "        vertical-align: middle;\n",
       "    }\n",
       "\n",
       "    .dataframe tbody tr th {\n",
       "        vertical-align: top;\n",
       "    }\n",
       "\n",
       "    .dataframe thead th {\n",
       "        text-align: right;\n",
       "    }\n",
       "</style>\n",
       "<table border=\"1\" class=\"dataframe\">\n",
       "  <thead>\n",
       "    <tr style=\"text-align: right;\">\n",
       "      <th></th>\n",
       "      <th>TITLE</th>\n",
       "      <th>SALARY</th>\n",
       "    </tr>\n",
       "  </thead>\n",
       "  <tbody>\n",
       "    <tr>\n",
       "      <th>0</th>\n",
       "      <td>Software Engineer</td>\n",
       "      <td>5000000</td>\n",
       "    </tr>\n",
       "    <tr>\n",
       "      <th>1</th>\n",
       "      <td>Software Engineer</td>\n",
       "      <td>5000000</td>\n",
       "    </tr>\n",
       "    <tr>\n",
       "      <th>2</th>\n",
       "      <td>Software Engineer</td>\n",
       "      <td>5000000</td>\n",
       "    </tr>\n",
       "    <tr>\n",
       "      <th>3</th>\n",
       "      <td>Data Analyst</td>\n",
       "      <td>5000000</td>\n",
       "    </tr>\n",
       "    <tr>\n",
       "      <th>4</th>\n",
       "      <td>Data Analyst</td>\n",
       "      <td>5000000</td>\n",
       "    </tr>\n",
       "  </tbody>\n",
       "</table>\n",
       "</div>"
      ],
      "text/plain": [
       "               TITLE   SALARY\n",
       "0  Software Engineer  5000000\n",
       "1  Software Engineer  5000000\n",
       "2  Software Engineer  5000000\n",
       "3       Data Analyst  5000000\n",
       "4       Data Analyst  5000000"
      ]
     },
     "execution_count": 32,
     "metadata": {},
     "output_type": "execute_result"
    }
   ],
   "source": [
    "df1[[\"TITLE\",\"SALARY\"]][df1.SALARY==df1['SALARY'].max()].head()"
   ]
  },
  {
   "cell_type": "code",
   "execution_count": 33,
   "id": "bb2b7acb",
   "metadata": {},
   "outputs": [
    {
     "data": {
      "text/html": [
       "<div>\n",
       "<style scoped>\n",
       "    .dataframe tbody tr th:only-of-type {\n",
       "        vertical-align: middle;\n",
       "    }\n",
       "\n",
       "    .dataframe tbody tr th {\n",
       "        vertical-align: top;\n",
       "    }\n",
       "\n",
       "    .dataframe thead th {\n",
       "        text-align: right;\n",
       "    }\n",
       "</style>\n",
       "<table border=\"1\" class=\"dataframe\">\n",
       "  <thead>\n",
       "    <tr style=\"text-align: right;\">\n",
       "      <th></th>\n",
       "      <th>TITLE</th>\n",
       "      <th>SALARY</th>\n",
       "    </tr>\n",
       "  </thead>\n",
       "  <tbody>\n",
       "    <tr>\n",
       "      <th>14247</th>\n",
       "      <td>Software Engineer</td>\n",
       "      <td>200000</td>\n",
       "    </tr>\n",
       "    <tr>\n",
       "      <th>14248</th>\n",
       "      <td>Software Engineer</td>\n",
       "      <td>200000</td>\n",
       "    </tr>\n",
       "    <tr>\n",
       "      <th>14249</th>\n",
       "      <td>Software Engineer</td>\n",
       "      <td>200000</td>\n",
       "    </tr>\n",
       "    <tr>\n",
       "      <th>14250</th>\n",
       "      <td>Software Engineer</td>\n",
       "      <td>200000</td>\n",
       "    </tr>\n",
       "    <tr>\n",
       "      <th>14251</th>\n",
       "      <td>Software Engineer</td>\n",
       "      <td>200000</td>\n",
       "    </tr>\n",
       "  </tbody>\n",
       "</table>\n",
       "</div>"
      ],
      "text/plain": [
       "                   TITLE  SALARY\n",
       "14247  Software Engineer  200000\n",
       "14248  Software Engineer  200000\n",
       "14249  Software Engineer  200000\n",
       "14250  Software Engineer  200000\n",
       "14251  Software Engineer  200000"
      ]
     },
     "execution_count": 33,
     "metadata": {},
     "output_type": "execute_result"
    }
   ],
   "source": [
    "df1[[\"TITLE\",\"SALARY\"]][df1.SALARY==df1['SALARY'].min()].head()"
   ]
  },
  {
   "cell_type": "code",
   "execution_count": 34,
   "id": "6b5cf5d8",
   "metadata": {
    "scrolled": true
   },
   "outputs": [
    {
     "data": {
      "text/html": [
       "<div>\n",
       "<style scoped>\n",
       "    .dataframe tbody tr th:only-of-type {\n",
       "        vertical-align: middle;\n",
       "    }\n",
       "\n",
       "    .dataframe tbody tr th {\n",
       "        vertical-align: top;\n",
       "    }\n",
       "\n",
       "    .dataframe thead th {\n",
       "        text-align: right;\n",
       "    }\n",
       "</style>\n",
       "<table border=\"1\" class=\"dataframe\">\n",
       "  <thead>\n",
       "    <tr style=\"text-align: right;\">\n",
       "      <th></th>\n",
       "      <th>COMPANY</th>\n",
       "      <th>SALARY</th>\n",
       "    </tr>\n",
       "  </thead>\n",
       "  <tbody>\n",
       "    <tr>\n",
       "      <th>0</th>\n",
       "      <td>KPMG</td>\n",
       "      <td>5000000</td>\n",
       "    </tr>\n",
       "    <tr>\n",
       "      <th>1</th>\n",
       "      <td>Premium-Jobs hiring for Internet</td>\n",
       "      <td>5000000</td>\n",
       "    </tr>\n",
       "    <tr>\n",
       "      <th>2</th>\n",
       "      <td>Vanguard Human Resource Consultant</td>\n",
       "      <td>5000000</td>\n",
       "    </tr>\n",
       "    <tr>\n",
       "      <th>3</th>\n",
       "      <td>V- Konnect Associates</td>\n",
       "      <td>5000000</td>\n",
       "    </tr>\n",
       "    <tr>\n",
       "      <th>4</th>\n",
       "      <td>Spruce Software Tech</td>\n",
       "      <td>5000000</td>\n",
       "    </tr>\n",
       "  </tbody>\n",
       "</table>\n",
       "</div>"
      ],
      "text/plain": [
       "                              COMPANY   SALARY\n",
       "0                                KPMG  5000000\n",
       "1    Premium-Jobs hiring for Internet  5000000\n",
       "2  Vanguard Human Resource Consultant  5000000\n",
       "3               V- Konnect Associates  5000000\n",
       "4                Spruce Software Tech  5000000"
      ]
     },
     "execution_count": 34,
     "metadata": {},
     "output_type": "execute_result"
    }
   ],
   "source": [
    "df1[[\"COMPANY\",\"SALARY\"]][df1.SALARY==df1['SALARY'].max()].head()"
   ]
  },
  {
   "cell_type": "markdown",
   "id": "96086786",
   "metadata": {},
   "source": [
    "## NOW LET'S SEE OUR TITLE COLUMN"
   ]
  },
  {
   "cell_type": "markdown",
   "id": "c91f3aaf",
   "metadata": {},
   "source": [
    "Since we have spaces in between the name of the job title word cloud will not be able to effectively show the result. So we will plot a bar graph for easier undertsanding of the most popular job role.\n",
    "\n",
    "### <span style=\"color:blue; font-size: 16px;\">PLOTTING A BAR GRAPH TO SEE WHICH IS THE MOST POPULAR JOB ROLE.</span>"
   ]
  },
  {
   "cell_type": "code",
   "execution_count": 35,
   "id": "28960c1a",
   "metadata": {},
   "outputs": [
    {
     "data": {
      "image/png": "[encoded data removed]",
      "text/plain": [
       "<Figure size 720x432 with 1 Axes>"
      ]
     },
     "metadata": {
      "needs_background": "light"
     },
     "output_type": "display_data"
    }
   ],
   "source": [
    "plt.figure(figsize=(10, 6))\n",
    "\n",
    "# Count the frequency of each location\n",
    "title_counts = df1[\"TITLE\"].value_counts()\n",
    "\n",
    "# Select the top 5 locations\n",
    "top_title = title_counts\n",
    "\n",
    "# Plot the top 5 locations\n",
    "plt.bar(top_title.index, top_title.values, width=0.5)\n",
    "plt.xlabel(\"Title\")\n",
    "plt.ylabel(\"Count\")\n",
    "plt.xticks(rotation=45)\n",
    "\n",
    "plt.show()"
   ]
  },
  {
   "cell_type": "code",
   "execution_count": 36,
   "id": "5ee01b91",
   "metadata": {},
   "outputs": [
    {
     "data": {
      "text/plain": [
       "Data Scientist       6611\n",
       "Software Engineer    4364\n",
       "Data Analyst         2177\n",
       "Consultant           1429\n",
       "Name: TITLE, dtype: int64"
      ]
     },
     "execution_count": 36,
     "metadata": {},
     "output_type": "execute_result"
    }
   ],
   "source": [
    "title_counts = df['TITLE'].value_counts()\n",
    "\n",
    "title_counts"
   ]
  },
  {
   "cell_type": "code",
   "execution_count": 39,
   "id": "4ed9073a",
   "metadata": {},
   "outputs": [
    {
     "name": "stdout",
     "output_type": "stream",
     "text": [
      "Software Engineer\n",
      "Data Analyst\n",
      "Data Scientist\n",
      "Consultant\n"
     ]
    }
   ],
   "source": [
    "unique_titles = df1['TITLE'].unique()\n",
    "\n",
    "# Print the unique locations\n",
    "for title in unique_titles:\n",
    "    print(title)"
   ]
  },
  {
   "cell_type": "markdown",
   "id": "e82526ed",
   "metadata": {},
   "source": [
    "Right now our dataset is in descending order of the salary let's change that and make a new dataframe df2."
   ]
  },
  {
   "cell_type": "code",
   "execution_count": 37,
   "id": "5d7fccc6",
   "metadata": {
    "scrolled": false
   },
   "outputs": [
    {
     "data": {
      "text/html": [
       "<div>\n",
       "<style scoped>\n",
       "    .dataframe tbody tr th:only-of-type {\n",
       "        vertical-align: middle;\n",
       "    }\n",
       "\n",
       "    .dataframe tbody tr th {\n",
       "        vertical-align: top;\n",
       "    }\n",
       "\n",
       "    .dataframe thead th {\n",
       "        text-align: right;\n",
       "    }\n",
       "</style>\n",
       "<table border=\"1\" class=\"dataframe\">\n",
       "  <thead>\n",
       "    <tr style=\"text-align: right;\">\n",
       "      <th></th>\n",
       "      <th>COMPANY</th>\n",
       "      <th>EXPERIENCE</th>\n",
       "      <th>LOCATION</th>\n",
       "      <th>TITLE</th>\n",
       "      <th>SALARY</th>\n",
       "      <th>SKILLS</th>\n",
       "    </tr>\n",
       "  </thead>\n",
       "  <tbody>\n",
       "    <tr>\n",
       "      <th>0</th>\n",
       "      <td>KPMG</td>\n",
       "      <td>15+ yrs</td>\n",
       "      <td>Chennai</td>\n",
       "      <td>Software Engineer</td>\n",
       "      <td>5000000</td>\n",
       "      <td>C</td>\n",
       "    </tr>\n",
       "    <tr>\n",
       "      <th>1</th>\n",
       "      <td>Premium-Jobs hiring for Internet</td>\n",
       "      <td>15+ yrs</td>\n",
       "      <td>Delhi</td>\n",
       "      <td>Software Engineer</td>\n",
       "      <td>5000000</td>\n",
       "      <td>JavaScript</td>\n",
       "    </tr>\n",
       "    <tr>\n",
       "      <th>2</th>\n",
       "      <td>Vanguard Human Resource Consultant</td>\n",
       "      <td>15+ yrs</td>\n",
       "      <td>Delhi</td>\n",
       "      <td>Software Engineer</td>\n",
       "      <td>5000000</td>\n",
       "      <td>JavaScript</td>\n",
       "    </tr>\n",
       "    <tr>\n",
       "      <th>3</th>\n",
       "      <td>V- Konnect Associates</td>\n",
       "      <td>15+ yrs</td>\n",
       "      <td>Delhi</td>\n",
       "      <td>Data Analyst</td>\n",
       "      <td>5000000</td>\n",
       "      <td>Python</td>\n",
       "    </tr>\n",
       "    <tr>\n",
       "      <th>4</th>\n",
       "      <td>Spruce Software Tech</td>\n",
       "      <td>15+ yrs</td>\n",
       "      <td>Bangalore</td>\n",
       "      <td>Data Analyst</td>\n",
       "      <td>5000000</td>\n",
       "      <td>Python</td>\n",
       "    </tr>\n",
       "    <tr>\n",
       "      <th>5</th>\n",
       "      <td>Leading client of HR Next</td>\n",
       "      <td>15+ yrs</td>\n",
       "      <td>Chennai</td>\n",
       "      <td>Data Analyst</td>\n",
       "      <td>5000000</td>\n",
       "      <td>Python</td>\n",
       "    </tr>\n",
       "    <tr>\n",
       "      <th>6</th>\n",
       "      <td>Kamms management Consultants hiring for Client...</td>\n",
       "      <td>15+ yrs</td>\n",
       "      <td>Kolkata</td>\n",
       "      <td>Data Analyst</td>\n",
       "      <td>5000000</td>\n",
       "      <td>SQL</td>\n",
       "    </tr>\n",
       "    <tr>\n",
       "      <th>7</th>\n",
       "      <td>Executive Scouters hiring for Compliance Leade...</td>\n",
       "      <td>15+ yrs</td>\n",
       "      <td>Bangalore</td>\n",
       "      <td>Data Analyst</td>\n",
       "      <td>5000000</td>\n",
       "      <td>Python</td>\n",
       "    </tr>\n",
       "    <tr>\n",
       "      <th>8</th>\n",
       "      <td>Finger Tips hiring for A client of Fingertips</td>\n",
       "      <td>15+ yrs</td>\n",
       "      <td>Hyderabad</td>\n",
       "      <td>Data Analyst</td>\n",
       "      <td>5000000</td>\n",
       "      <td>Python</td>\n",
       "    </tr>\n",
       "    <tr>\n",
       "      <th>9</th>\n",
       "      <td>Green And Wise</td>\n",
       "      <td>15+ yrs</td>\n",
       "      <td>Delhi</td>\n",
       "      <td>Software Engineer</td>\n",
       "      <td>5000000</td>\n",
       "      <td>JavaScript</td>\n",
       "    </tr>\n",
       "    <tr>\n",
       "      <th>10</th>\n",
       "      <td>Search Ends hiring for Leading Company in Oil ...</td>\n",
       "      <td>15+ yrs</td>\n",
       "      <td>Hyderabad</td>\n",
       "      <td>Software Engineer</td>\n",
       "      <td>5000000</td>\n",
       "      <td>Java</td>\n",
       "    </tr>\n",
       "    <tr>\n",
       "      <th>11</th>\n",
       "      <td>Live connections</td>\n",
       "      <td>15+ yrs</td>\n",
       "      <td>Bangalore</td>\n",
       "      <td>Software Engineer</td>\n",
       "      <td>5000000</td>\n",
       "      <td>JavaScript</td>\n",
       "    </tr>\n",
       "    <tr>\n",
       "      <th>12</th>\n",
       "      <td>New Era India Consultancy</td>\n",
       "      <td>15+ yrs</td>\n",
       "      <td>Delhi</td>\n",
       "      <td>Data Scientist</td>\n",
       "      <td>5000000</td>\n",
       "      <td>R</td>\n",
       "    </tr>\n",
       "    <tr>\n",
       "      <th>13</th>\n",
       "      <td>TalPro hiring for Client into Internet</td>\n",
       "      <td>15+ yrs</td>\n",
       "      <td>Chennai</td>\n",
       "      <td>Data Scientist</td>\n",
       "      <td>5000000</td>\n",
       "      <td>Excel</td>\n",
       "    </tr>\n",
       "    <tr>\n",
       "      <th>14</th>\n",
       "      <td>ABC Consultants</td>\n",
       "      <td>15+ yrs</td>\n",
       "      <td>Delhi</td>\n",
       "      <td>Data Scientist</td>\n",
       "      <td>5000000</td>\n",
       "      <td>Python</td>\n",
       "    </tr>\n",
       "    <tr>\n",
       "      <th>15</th>\n",
       "      <td>Sampark Career Developers hiring for Client of...</td>\n",
       "      <td>15+ yrs</td>\n",
       "      <td>Kolkata</td>\n",
       "      <td>Data Scientist</td>\n",
       "      <td>5000000</td>\n",
       "      <td>Excel</td>\n",
       "    </tr>\n",
       "    <tr>\n",
       "      <th>16</th>\n",
       "      <td>VQuotient Consulting Service  hiring for Leadi...</td>\n",
       "      <td>15+ yrs</td>\n",
       "      <td>Pune</td>\n",
       "      <td>Data Scientist</td>\n",
       "      <td>5000000</td>\n",
       "      <td>Python</td>\n",
       "    </tr>\n",
       "    <tr>\n",
       "      <th>17</th>\n",
       "      <td>ViXi IT Solutions hiring for IBM India Private...</td>\n",
       "      <td>15+ yrs</td>\n",
       "      <td>Bangalore</td>\n",
       "      <td>Data Scientist</td>\n",
       "      <td>5000000</td>\n",
       "      <td>Python</td>\n",
       "    </tr>\n",
       "    <tr>\n",
       "      <th>18</th>\n",
       "      <td>Mahindra</td>\n",
       "      <td>15+ yrs</td>\n",
       "      <td>Hyderabad</td>\n",
       "      <td>Data Scientist</td>\n",
       "      <td>5000000</td>\n",
       "      <td>Oracle</td>\n",
       "    </tr>\n",
       "    <tr>\n",
       "      <th>19</th>\n",
       "      <td>Harvard Management Consultants</td>\n",
       "      <td>15+ yrs</td>\n",
       "      <td>Kolkata</td>\n",
       "      <td>Data Scientist</td>\n",
       "      <td>5000000</td>\n",
       "      <td>Python</td>\n",
       "    </tr>\n",
       "    <tr>\n",
       "      <th>20</th>\n",
       "      <td>Live connections</td>\n",
       "      <td>15+ yrs</td>\n",
       "      <td>Hyderabad</td>\n",
       "      <td>Data Scientist</td>\n",
       "      <td>5000000</td>\n",
       "      <td>R</td>\n",
       "    </tr>\n",
       "    <tr>\n",
       "      <th>21</th>\n",
       "      <td>Apex Consultants</td>\n",
       "      <td>15+ yrs</td>\n",
       "      <td>Mumbai</td>\n",
       "      <td>Data Scientist</td>\n",
       "      <td>5000000</td>\n",
       "      <td>NoSQL</td>\n",
       "    </tr>\n",
       "    <tr>\n",
       "      <th>22</th>\n",
       "      <td>Corporate Search</td>\n",
       "      <td>15+ yrs</td>\n",
       "      <td>Delhi</td>\n",
       "      <td>Data Scientist</td>\n",
       "      <td>5000000</td>\n",
       "      <td>Python</td>\n",
       "    </tr>\n",
       "    <tr>\n",
       "      <th>23</th>\n",
       "      <td>The Profile House hiring for Leading Textile C...</td>\n",
       "      <td>12 - 15 yrs</td>\n",
       "      <td>Bangalore</td>\n",
       "      <td>Data Analyst</td>\n",
       "      <td>4000000</td>\n",
       "      <td>SQL</td>\n",
       "    </tr>\n",
       "    <tr>\n",
       "      <th>24</th>\n",
       "      <td>Sampark Career Developers hiring for Client of...</td>\n",
       "      <td>12 - 15 yrs</td>\n",
       "      <td>Pune</td>\n",
       "      <td>Data Analyst</td>\n",
       "      <td>4000000</td>\n",
       "      <td>SQL</td>\n",
       "    </tr>\n",
       "  </tbody>\n",
       "</table>\n",
       "</div>"
      ],
      "text/plain": [
       "                                              COMPANY   EXPERIENCE   LOCATION  \\\n",
       "0                                                KPMG      15+ yrs    Chennai   \n",
       "1                    Premium-Jobs hiring for Internet      15+ yrs      Delhi   \n",
       "2                  Vanguard Human Resource Consultant      15+ yrs      Delhi   \n",
       "3                               V- Konnect Associates      15+ yrs      Delhi   \n",
       "4                                Spruce Software Tech      15+ yrs  Bangalore   \n",
       "5                           Leading client of HR Next      15+ yrs    Chennai   \n",
       "6   Kamms management Consultants hiring for Client...      15+ yrs    Kolkata   \n",
       "7   Executive Scouters hiring for Compliance Leade...      15+ yrs  Bangalore   \n",
       "8       Finger Tips hiring for A client of Fingertips      15+ yrs  Hyderabad   \n",
       "9                                      Green And Wise      15+ yrs      Delhi   \n",
       "10  Search Ends hiring for Leading Company in Oil ...      15+ yrs  Hyderabad   \n",
       "11                                   Live connections      15+ yrs  Bangalore   \n",
       "12                          New Era India Consultancy      15+ yrs      Delhi   \n",
       "13            TalPro hiring for Client into Internet       15+ yrs    Chennai   \n",
       "14                                    ABC Consultants      15+ yrs      Delhi   \n",
       "15  Sampark Career Developers hiring for Client of...      15+ yrs    Kolkata   \n",
       "16  VQuotient Consulting Service  hiring for Leadi...      15+ yrs       Pune   \n",
       "17  ViXi IT Solutions hiring for IBM India Private...      15+ yrs  Bangalore   \n",
       "18                                           Mahindra      15+ yrs  Hyderabad   \n",
       "19                     Harvard Management Consultants      15+ yrs    Kolkata   \n",
       "20                                   Live connections      15+ yrs  Hyderabad   \n",
       "21                                   Apex Consultants      15+ yrs     Mumbai   \n",
       "22                                   Corporate Search      15+ yrs      Delhi   \n",
       "23  The Profile House hiring for Leading Textile C...  12 - 15 yrs  Bangalore   \n",
       "24  Sampark Career Developers hiring for Client of...  12 - 15 yrs       Pune   \n",
       "\n",
       "                TITLE   SALARY      SKILLS  \n",
       "0   Software Engineer  5000000           C  \n",
       "1   Software Engineer  5000000  JavaScript  \n",
       "2   Software Engineer  5000000  JavaScript  \n",
       "3        Data Analyst  5000000      Python  \n",
       "4        Data Analyst  5000000      Python  \n",
       "5        Data Analyst  5000000      Python  \n",
       "6        Data Analyst  5000000         SQL  \n",
       "7        Data Analyst  5000000      Python  \n",
       "8        Data Analyst  5000000      Python  \n",
       "9   Software Engineer  5000000  JavaScript  \n",
       "10  Software Engineer  5000000        Java  \n",
       "11  Software Engineer  5000000  JavaScript  \n",
       "12     Data Scientist  5000000           R  \n",
       "13     Data Scientist  5000000       Excel  \n",
       "14     Data Scientist  5000000      Python  \n",
       "15     Data Scientist  5000000       Excel  \n",
       "16     Data Scientist  5000000      Python  \n",
       "17     Data Scientist  5000000      Python  \n",
       "18     Data Scientist  5000000      Oracle  \n",
       "19     Data Scientist  5000000      Python  \n",
       "20     Data Scientist  5000000           R  \n",
       "21     Data Scientist  5000000       NoSQL  \n",
       "22     Data Scientist  5000000      Python  \n",
       "23       Data Analyst  4000000         SQL  \n",
       "24       Data Analyst  4000000         SQL  "
      ]
     },
     "execution_count": 37,
     "metadata": {},
     "output_type": "execute_result"
    }
   ],
   "source": [
    "df1.head(25)"
   ]
  },
  {
   "cell_type": "code",
   "execution_count": 38,
   "id": "bd93944c",
   "metadata": {},
   "outputs": [
    {
     "data": {
      "text/html": [
       "<div>\n",
       "<style scoped>\n",
       "    .dataframe tbody tr th:only-of-type {\n",
       "        vertical-align: middle;\n",
       "    }\n",
       "\n",
       "    .dataframe tbody tr th {\n",
       "        vertical-align: top;\n",
       "    }\n",
       "\n",
       "    .dataframe thead th {\n",
       "        text-align: right;\n",
       "    }\n",
       "</style>\n",
       "<table border=\"1\" class=\"dataframe\">\n",
       "  <thead>\n",
       "    <tr style=\"text-align: right;\">\n",
       "      <th></th>\n",
       "      <th>COMPANY</th>\n",
       "      <th>EXPERIENCE</th>\n",
       "      <th>LOCATION</th>\n",
       "      <th>TITLE</th>\n",
       "      <th>SALARY</th>\n",
       "      <th>SKILLS</th>\n",
       "    </tr>\n",
       "  </thead>\n",
       "  <tbody>\n",
       "    <tr>\n",
       "      <th>0</th>\n",
       "      <td>Audi India</td>\n",
       "      <td>7 - 10 yrs</td>\n",
       "      <td>Mumbai</td>\n",
       "      <td>Data Scientist</td>\n",
       "      <td>1000000</td>\n",
       "      <td>Django</td>\n",
       "    </tr>\n",
       "    <tr>\n",
       "      <th>1</th>\n",
       "      <td>Head-field hiring for Head field sol</td>\n",
       "      <td>0 - 2 yrs</td>\n",
       "      <td>Kolkata</td>\n",
       "      <td>Consultant</td>\n",
       "      <td>300000</td>\n",
       "      <td>SQL</td>\n",
       "    </tr>\n",
       "    <tr>\n",
       "      <th>2</th>\n",
       "      <td>Multi Commodity Exchange of India</td>\n",
       "      <td>7 - 10 yrs</td>\n",
       "      <td>Bangalore</td>\n",
       "      <td>Software Engineer</td>\n",
       "      <td>1000000</td>\n",
       "      <td>CSS</td>\n",
       "    </tr>\n",
       "    <tr>\n",
       "      <th>3</th>\n",
       "      <td>Falcon Services</td>\n",
       "      <td>Freshers</td>\n",
       "      <td>Bangalore</td>\n",
       "      <td>Data Analyst</td>\n",
       "      <td>200000</td>\n",
       "      <td>Azure</td>\n",
       "    </tr>\n",
       "    <tr>\n",
       "      <th>4</th>\n",
       "      <td>DK Energy</td>\n",
       "      <td>7 - 10 yrs</td>\n",
       "      <td>Bangalore</td>\n",
       "      <td>Data Scientist</td>\n",
       "      <td>1000000</td>\n",
       "      <td>JavaScript</td>\n",
       "    </tr>\n",
       "    <tr>\n",
       "      <th>5</th>\n",
       "      <td>Kodiak Networks India</td>\n",
       "      <td>7 - 10 yrs</td>\n",
       "      <td>Hyderabad</td>\n",
       "      <td>Software Engineer</td>\n",
       "      <td>1000000</td>\n",
       "      <td>CSS</td>\n",
       "    </tr>\n",
       "    <tr>\n",
       "      <th>6</th>\n",
       "      <td>Hindco Recruitment Consultants hiring for A Le...</td>\n",
       "      <td>7 - 10 yrs</td>\n",
       "      <td>Delhi</td>\n",
       "      <td>Data Scientist</td>\n",
       "      <td>1000000</td>\n",
       "      <td>MySQL</td>\n",
       "    </tr>\n",
       "    <tr>\n",
       "      <th>7</th>\n",
       "      <td>Metro Career Solutions hiring for Many Top Ind...</td>\n",
       "      <td>3 - 5 yrs</td>\n",
       "      <td>Bangalore</td>\n",
       "      <td>Data Scientist</td>\n",
       "      <td>550000</td>\n",
       "      <td>Excel</td>\n",
       "    </tr>\n",
       "    <tr>\n",
       "      <th>8</th>\n",
       "      <td>SPICE WEB SERVICES</td>\n",
       "      <td>7 - 10 yrs</td>\n",
       "      <td>Hyderabad</td>\n",
       "      <td>Data Scientist</td>\n",
       "      <td>1000000</td>\n",
       "      <td>AWS</td>\n",
       "    </tr>\n",
       "    <tr>\n",
       "      <th>9</th>\n",
       "      <td>Flexus Soft Services hiring for MNC E - Publis...</td>\n",
       "      <td>0 - 2 yrs</td>\n",
       "      <td>Chennai</td>\n",
       "      <td>Data Analyst</td>\n",
       "      <td>400000</td>\n",
       "      <td>Tableau</td>\n",
       "    </tr>\n",
       "    <tr>\n",
       "      <th>10</th>\n",
       "      <td>Shirdi Sai Baba Temple Society</td>\n",
       "      <td>7 - 10 yrs</td>\n",
       "      <td>Chennai</td>\n",
       "      <td>Data Scientist</td>\n",
       "      <td>1000000</td>\n",
       "      <td>Azure</td>\n",
       "    </tr>\n",
       "    <tr>\n",
       "      <th>11</th>\n",
       "      <td>Pentagon Global Solutions Limited</td>\n",
       "      <td>3 - 5 yrs</td>\n",
       "      <td>Delhi</td>\n",
       "      <td>Data Analyst</td>\n",
       "      <td>600000</td>\n",
       "      <td>Excel</td>\n",
       "    </tr>\n",
       "    <tr>\n",
       "      <th>12</th>\n",
       "      <td>premastrologer</td>\n",
       "      <td>7 - 10 yrs</td>\n",
       "      <td>Bangalore</td>\n",
       "      <td>Data Scientist</td>\n",
       "      <td>1000000</td>\n",
       "      <td>SQL</td>\n",
       "    </tr>\n",
       "    <tr>\n",
       "      <th>13</th>\n",
       "      <td>Jasmin Infotech</td>\n",
       "      <td>7 - 10 yrs</td>\n",
       "      <td>Hyderabad</td>\n",
       "      <td>Data Scientist</td>\n",
       "      <td>1000000</td>\n",
       "      <td>Excel</td>\n",
       "    </tr>\n",
       "    <tr>\n",
       "      <th>14</th>\n",
       "      <td>Acculogix Software Solutions India</td>\n",
       "      <td>7 - 10 yrs</td>\n",
       "      <td>Delhi</td>\n",
       "      <td>Software Engineer</td>\n",
       "      <td>1000000</td>\n",
       "      <td>C</td>\n",
       "    </tr>\n",
       "    <tr>\n",
       "      <th>15</th>\n",
       "      <td>Accord Software &amp; Systems</td>\n",
       "      <td>7 - 10 yrs</td>\n",
       "      <td>Pune</td>\n",
       "      <td>Data Scientist</td>\n",
       "      <td>1000000</td>\n",
       "      <td>Excel</td>\n",
       "    </tr>\n",
       "    <tr>\n",
       "      <th>16</th>\n",
       "      <td>Fuzen Software</td>\n",
       "      <td>7 - 10 yrs</td>\n",
       "      <td>Kolkata</td>\n",
       "      <td>Data Scientist</td>\n",
       "      <td>1000000</td>\n",
       "      <td>SQL</td>\n",
       "    </tr>\n",
       "    <tr>\n",
       "      <th>17</th>\n",
       "      <td>Dibyanshu Associates</td>\n",
       "      <td>7 - 10 yrs</td>\n",
       "      <td>Hyderabad</td>\n",
       "      <td>Data Scientist</td>\n",
       "      <td>1000000</td>\n",
       "      <td>Scala</td>\n",
       "    </tr>\n",
       "    <tr>\n",
       "      <th>18</th>\n",
       "      <td>IPsoft Global Services Private Limited</td>\n",
       "      <td>7 - 10 yrs</td>\n",
       "      <td>Chennai</td>\n",
       "      <td>Data Analyst</td>\n",
       "      <td>1500000</td>\n",
       "      <td>SQL</td>\n",
       "    </tr>\n",
       "    <tr>\n",
       "      <th>19</th>\n",
       "      <td>ISEO SYSTEMS An ISO Certified HR Outsourcing C...</td>\n",
       "      <td>Freshers</td>\n",
       "      <td>Hyderabad</td>\n",
       "      <td>Consultant</td>\n",
       "      <td>200000</td>\n",
       "      <td>SQL</td>\n",
       "    </tr>\n",
       "    <tr>\n",
       "      <th>20</th>\n",
       "      <td>Talent Leads Consultants</td>\n",
       "      <td>7 - 10 yrs</td>\n",
       "      <td>Bangalore</td>\n",
       "      <td>Data Scientist</td>\n",
       "      <td>1000000</td>\n",
       "      <td>MongoDB</td>\n",
       "    </tr>\n",
       "    <tr>\n",
       "      <th>21</th>\n",
       "      <td>Future Focus Infotech</td>\n",
       "      <td>0 - 2 yrs</td>\n",
       "      <td>Mumbai</td>\n",
       "      <td>Data Analyst</td>\n",
       "      <td>400000</td>\n",
       "      <td>SQL</td>\n",
       "    </tr>\n",
       "    <tr>\n",
       "      <th>22</th>\n",
       "      <td>J9 Ventures</td>\n",
       "      <td>7 - 10 yrs</td>\n",
       "      <td>Delhi</td>\n",
       "      <td>Data Scientist</td>\n",
       "      <td>1000000</td>\n",
       "      <td>GCP</td>\n",
       "    </tr>\n",
       "    <tr>\n",
       "      <th>23</th>\n",
       "      <td>InfocusRx Marketing and Communication</td>\n",
       "      <td>7 - 10 yrs</td>\n",
       "      <td>Chennai</td>\n",
       "      <td>Data Scientist</td>\n",
       "      <td>1000000</td>\n",
       "      <td>R</td>\n",
       "    </tr>\n",
       "    <tr>\n",
       "      <th>24</th>\n",
       "      <td>Techcom Technologies Private Limited</td>\n",
       "      <td>7 - 10 yrs</td>\n",
       "      <td>Bangalore</td>\n",
       "      <td>Software Engineer</td>\n",
       "      <td>1000000</td>\n",
       "      <td>JavaScript</td>\n",
       "    </tr>\n",
       "  </tbody>\n",
       "</table>\n",
       "</div>"
      ],
      "text/plain": [
       "                                              COMPANY  EXPERIENCE   LOCATION  \\\n",
       "0                                          Audi India  7 - 10 yrs     Mumbai   \n",
       "1                Head-field hiring for Head field sol   0 - 2 yrs    Kolkata   \n",
       "2                   Multi Commodity Exchange of India  7 - 10 yrs  Bangalore   \n",
       "3                                     Falcon Services    Freshers  Bangalore   \n",
       "4                                           DK Energy  7 - 10 yrs  Bangalore   \n",
       "5                               Kodiak Networks India  7 - 10 yrs  Hyderabad   \n",
       "6   Hindco Recruitment Consultants hiring for A Le...  7 - 10 yrs      Delhi   \n",
       "7   Metro Career Solutions hiring for Many Top Ind...   3 - 5 yrs  Bangalore   \n",
       "8                                  SPICE WEB SERVICES  7 - 10 yrs  Hyderabad   \n",
       "9   Flexus Soft Services hiring for MNC E - Publis...   0 - 2 yrs    Chennai   \n",
       "10                     Shirdi Sai Baba Temple Society  7 - 10 yrs    Chennai   \n",
       "11                  Pentagon Global Solutions Limited   3 - 5 yrs      Delhi   \n",
       "12                                     premastrologer  7 - 10 yrs  Bangalore   \n",
       "13                                    Jasmin Infotech  7 - 10 yrs  Hyderabad   \n",
       "14                Acculogix Software Solutions India   7 - 10 yrs      Delhi   \n",
       "15                          Accord Software & Systems  7 - 10 yrs       Pune   \n",
       "16                                     Fuzen Software  7 - 10 yrs    Kolkata   \n",
       "17                               Dibyanshu Associates  7 - 10 yrs  Hyderabad   \n",
       "18             IPsoft Global Services Private Limited  7 - 10 yrs    Chennai   \n",
       "19  ISEO SYSTEMS An ISO Certified HR Outsourcing C...    Freshers  Hyderabad   \n",
       "20                           Talent Leads Consultants  7 - 10 yrs  Bangalore   \n",
       "21                              Future Focus Infotech   0 - 2 yrs     Mumbai   \n",
       "22                                        J9 Ventures  7 - 10 yrs      Delhi   \n",
       "23              InfocusRx Marketing and Communication  7 - 10 yrs    Chennai   \n",
       "24               Techcom Technologies Private Limited  7 - 10 yrs  Bangalore   \n",
       "\n",
       "                TITLE   SALARY      SKILLS  \n",
       "0      Data Scientist  1000000      Django  \n",
       "1          Consultant   300000         SQL  \n",
       "2   Software Engineer  1000000         CSS  \n",
       "3        Data Analyst   200000       Azure  \n",
       "4      Data Scientist  1000000  JavaScript  \n",
       "5   Software Engineer  1000000         CSS  \n",
       "6      Data Scientist  1000000       MySQL  \n",
       "7      Data Scientist   550000       Excel  \n",
       "8      Data Scientist  1000000         AWS  \n",
       "9        Data Analyst   400000     Tableau  \n",
       "10     Data Scientist  1000000       Azure  \n",
       "11       Data Analyst   600000       Excel  \n",
       "12     Data Scientist  1000000         SQL  \n",
       "13     Data Scientist  1000000       Excel  \n",
       "14  Software Engineer  1000000           C  \n",
       "15     Data Scientist  1000000       Excel  \n",
       "16     Data Scientist  1000000         SQL  \n",
       "17     Data Scientist  1000000       Scala  \n",
       "18       Data Analyst  1500000         SQL  \n",
       "19         Consultant   200000         SQL  \n",
       "20     Data Scientist  1000000     MongoDB  \n",
       "21       Data Analyst   400000         SQL  \n",
       "22     Data Scientist  1000000         GCP  \n",
       "23     Data Scientist  1000000           R  \n",
       "24  Software Engineer  1000000  JavaScript  "
      ]
     },
     "execution_count": 38,
     "metadata": {},
     "output_type": "execute_result"
    }
   ],
   "source": [
    "df2 = df1.sample(frac=1).reset_index(drop=True)\n",
    "df2.head(25)"
   ]
  },
  {
   "cell_type": "markdown",
   "id": "e14ef42a",
   "metadata": {},
   "source": [
    "Great now our dataframe is in random order, don't worry all the data is in same manner as it was previously i just shuffled the rows."
   ]
  },
  {
   "cell_type": "markdown",
   "id": "31a751d9",
   "metadata": {},
   "source": [
    "To date, we have completed cleaning, analyzing, and creating visualizations for each individual column in the dataframe. Moving forward, we will now proceed to analyze two columns simultaneously and develop a set of helpful functions to facilitate a clearer understanding of the data. Our aim is to ensure that these functions are user-friendly, allowing a third party to effortlessly utilize them and obtain the specific information they desire."
   ]
  },
  {
   "cell_type": "markdown",
   "id": "7affd438",
   "metadata": {},
   "source": [
    "## Let's check what are `skills` required for a specific `job role`.<br>\n",
    "We will make a DataFrame containing job titles and skills, groups the data by job roles, and creates a new DataFrame that aggregates the unique skills for each job role. The resulting DataFrame provides a consolidated view of job titles and their associated skills."
   ]
  },
  {
   "cell_type": "code",
   "execution_count": 42,
   "id": "7b763ada",
   "metadata": {},
   "outputs": [],
   "source": [
    "def job_skills_dataframe(df2):\n",
    "    \n",
    "    # Create an empty DataFrame with 'TITLE' and 'SKILLS' columns\n",
    "    job_skills_df2 = pd.DataFrame(columns=['TITLE', 'SKILLS'])\n",
    "\n",
    "    # Group the DataFrame by unique job roles in the TITLE column\n",
    "    grouped = df2.groupby('TITLE')\n",
    "\n",
    "    # Iterate over each job role group\n",
    "    for title, group in grouped:\n",
    "        # Get the unique skills for the current job role group\n",
    "        unique_skills = group['SKILLS'].unique()\n",
    "\n",
    "        # Convert float values to strings\n",
    "        unique_skills = [str(skill) for skill in unique_skills]\n",
    "\n",
    "        # Join the unique skills into a string separated by commas\n",
    "        skills_str = ', '.join(unique_skills)\n",
    "\n",
    "        # Append the job role and associated skills to the DataFrame\n",
    "        job_skills_df2 = pd.concat([job_skills_df2, pd.DataFrame({'TITLE': [title], 'SKILLS': [skills_str]})],\n",
    "                                  ignore_index=True)\n",
    "\n",
    "    return job_skills_df2\n",
    "\n",
    "# Adjust display options to show all text in columns\n",
    "pd.set_option('display.max_colwidth', None)"
   ]
  },
  {
   "cell_type": "code",
   "execution_count": 43,
   "id": "30024115",
   "metadata": {},
   "outputs": [
    {
     "data": {
      "text/html": [
       "<div>\n",
       "<style scoped>\n",
       "    .dataframe tbody tr th:only-of-type {\n",
       "        vertical-align: middle;\n",
       "    }\n",
       "\n",
       "    .dataframe tbody tr th {\n",
       "        vertical-align: top;\n",
       "    }\n",
       "\n",
       "    .dataframe thead th {\n",
       "        text-align: right;\n",
       "    }\n",
       "</style>\n",
       "<table border=\"1\" class=\"dataframe\">\n",
       "  <thead>\n",
       "    <tr style=\"text-align: right;\">\n",
       "      <th></th>\n",
       "      <th>TITLE</th>\n",
       "      <th>SKILLS</th>\n",
       "    </tr>\n",
       "  </thead>\n",
       "  <tbody>\n",
       "    <tr>\n",
       "      <th>0</th>\n",
       "      <td>Consultant</td>\n",
       "      <td>SQL, Python, R, PowerBI, Excel, AWS, Azure, Tableau, Oracle, NoSQL</td>\n",
       "    </tr>\n",
       "    <tr>\n",
       "      <th>1</th>\n",
       "      <td>Data Analyst</td>\n",
       "      <td>Azure, Tableau, Excel, SQL, Oracle, PowerBI, AWS, R, Python, JavaScript, NoSQL, C, Java, Scala</td>\n",
       "    </tr>\n",
       "    <tr>\n",
       "      <th>2</th>\n",
       "      <td>Data Scientist</td>\n",
       "      <td>Django, JavaScript, MySQL, Excel, AWS, Azure, SQL, Scala, MongoDB, GCP, R, NoSQL, Python, C, Tableau, PowerBI, Oracle, Java</td>\n",
       "    </tr>\n",
       "    <tr>\n",
       "      <th>3</th>\n",
       "      <td>Software Engineer</td>\n",
       "      <td>CSS, C, JavaScript, SQL, Angular, Oracle, Java, AWS, Node.js</td>\n",
       "    </tr>\n",
       "  </tbody>\n",
       "</table>\n",
       "</div>"
      ],
      "text/plain": [
       "               TITLE  \\\n",
       "0         Consultant   \n",
       "1       Data Analyst   \n",
       "2     Data Scientist   \n",
       "3  Software Engineer   \n",
       "\n",
       "                                                                                                                        SKILLS  \n",
       "0                                                           SQL, Python, R, PowerBI, Excel, AWS, Azure, Tableau, Oracle, NoSQL  \n",
       "1                               Azure, Tableau, Excel, SQL, Oracle, PowerBI, AWS, R, Python, JavaScript, NoSQL, C, Java, Scala  \n",
       "2  Django, JavaScript, MySQL, Excel, AWS, Azure, SQL, Scala, MongoDB, GCP, R, NoSQL, Python, C, Tableau, PowerBI, Oracle, Java  \n",
       "3                                                                 CSS, C, JavaScript, SQL, Angular, Oracle, Java, AWS, Node.js  "
      ]
     },
     "execution_count": 43,
     "metadata": {},
     "output_type": "execute_result"
    }
   ],
   "source": [
    "job_skills_dataframe(df2)"
   ]
  },
  {
   "cell_type": "markdown",
   "id": "f2253fa9",
   "metadata": {},
   "source": [
    "The code appears to be clean and comprehensible at the moment, doesn't it? \n",
    "\n",
    "However, we can further enhance its clarity and visual appeal by developing a function that interacts with the DataFrame. This function will allow users to view the skills specific to the job role they desire. Additionally, we can incorporate a graph to provide a more intuitive representation of the skills, making the understanding process even easier."
   ]
  },
  {
   "cell_type": "code",
   "execution_count": 64,
   "id": "1827d9d1",
   "metadata": {},
   "outputs": [],
   "source": [
    "def plot_skills_for_job_role(df2, job_role):\n",
    "    \n",
    "    if job_role.lower() == 'all':\n",
    "        # Count the occurrence of each skill for all job roles\n",
    "        skills = df2['SKILLS'].str.split(', ')\n",
    "        skill_counts = pd.Series([skill for sublist in skills for skill in sublist]).value_counts()\n",
    "\n",
    "        # Sort the skills based on count in ascending order\n",
    "        skill_counts = skill_counts.sort_values(ascending=True)\n",
    "\n",
    "        # Plot the vertical bar graph for all skills\n",
    "        plt.figure(figsize=(10, 5))  # Adjust the figure size\n",
    "        plt.barh(skill_counts.index, skill_counts.values)\n",
    "        plt.ylabel('Skills')\n",
    "        plt.xlabel('Count')\n",
    "        plt.title('Skills for All Job Roles')\n",
    "        plt.show()\n",
    "    else:\n",
    "        # Filter the DataFrame for the given job role\n",
    "        filtered_df = df2[df2['TITLE'] == job_role]\n",
    "\n",
    "        # Get the skills for the job role\n",
    "        skills = filtered_df['SKILLS'].str.split(', ')\n",
    "\n",
    "        # Count the occurrence of each skill\n",
    "        skill_counts = pd.Series([skill for sublist in skills for skill in sublist], dtype='object').value_counts()\n",
    "\n",
    "        # Sort the skills based on count in ascending order\n",
    "        skill_counts = skill_counts.sort_values(ascending=True)\n",
    "\n",
    "        # Plot the vertical bar graph for the specific job role\n",
    "        plt.figure(figsize=(10, 5))  # Adjust the figure size\n",
    "        plt.barh(skill_counts.index, skill_counts.values)\n",
    "        plt.ylabel('Skills')\n",
    "        plt.xlabel('Count')\n",
    "        plt.title(f'Skills for specific Job Role: {job_role}')\n",
    "        plt.show()"
   ]
  },
  {
   "cell_type": "code",
   "execution_count": 65,
   "id": "3b8acaba",
   "metadata": {},
   "outputs": [
    {
     "data": {
      "image/png": "[encoded data removed]",
      "text/plain": [
       "<Figure size 720x360 with 1 Axes>"
      ]
     },
     "metadata": {
      "needs_background": "light"
     },
     "output_type": "display_data"
    }
   ],
   "source": [
    "plot_skills_for_job_role(df2, 'Data Analyst')  # Plot for a specific job role"
   ]
  },
  {
   "cell_type": "code",
   "execution_count": 46,
   "id": "9618398e",
   "metadata": {
    "scrolled": false
   },
   "outputs": [
    {
     "data": {
      "image/png": "[encoded data removed]",
      "text/plain": [
       "<Figure size 720x360 with 1 Axes>"
      ]
     },
     "metadata": {
      "needs_background": "light"
     },
     "output_type": "display_data"
    }
   ],
   "source": [
    "plot_skills_for_job_role(df2, 'Consultant')  # Plot for a specific job role"
   ]
  },
  {
   "cell_type": "code",
   "execution_count": 47,
   "id": "210fc64d",
   "metadata": {},
   "outputs": [
    {
     "data": {
      "image/png": "[encoded data removed]",
      "text/plain": [
       "<Figure size 720x360 with 1 Axes>"
      ]
     },
     "metadata": {
      "needs_background": "light"
     },
     "output_type": "display_data"
    }
   ],
   "source": [
    "plot_skills_for_job_role(df2, 'Data Scientist')  # Plot for a specific job role"
   ]
  },
  {
   "cell_type": "code",
   "execution_count": 48,
   "id": "4b6ddf8e",
   "metadata": {
    "scrolled": true
   },
   "outputs": [
    {
     "data": {
      "image/png": "[encoded data removed]",
      "text/plain": [
       "<Figure size 720x360 with 1 Axes>"
      ]
     },
     "metadata": {
      "needs_background": "light"
     },
     "output_type": "display_data"
    }
   ],
   "source": [
    "plot_skills_for_job_role(df2, 'Software Engineer')  # Plot for a specific job role"
   ]
  },
  {
   "cell_type": "code",
   "execution_count": 49,
   "id": "a431342e",
   "metadata": {
    "scrolled": false
   },
   "outputs": [
    {
     "data": {
      "image/png": "[encoded data removed]",
      "text/plain": [
       "<Figure size 720x360 with 1 Axes>"
      ]
     },
     "metadata": {
      "needs_background": "light"
     },
     "output_type": "display_data"
    }
   ],
   "source": [
    "plot_skills_for_job_role(df2, 'all')         # Plot for all job roles"
   ]
  },
  {
   "cell_type": "markdown",
   "id": "598c5fe2",
   "metadata": {},
   "source": [
    "## Now let's see the relationsip between `salary` and `experience`."
   ]
  },
  {
   "cell_type": "code",
   "execution_count": 52,
   "id": "05dc53ef",
   "metadata": {},
   "outputs": [
    {
     "data": {
      "image/png": "[encoded data removed]",
      "text/plain": [
       "<Figure size 720x432 with 1 Axes>"
      ]
     },
     "metadata": {
      "needs_background": "light"
     },
     "output_type": "display_data"
    }
   ],
   "source": [
    "df2_grouped = df2.groupby('EXPERIENCE')['SALARY'].mean()\n",
    "\n",
    "# Sorting the grouped dataframe by mean salary in ascending order\n",
    "df2_sorted = df2_grouped.sort_values()\n",
    "\n",
    "# Extracting the 'EXPERIENCE' and 'SALARY' columns from the sorted dataframe\n",
    "experience = df2_sorted.index\n",
    "mean_salary = df2_sorted.values\n",
    "\n",
    "# Increasing the figure size\n",
    "plt.figure(figsize=(10, 6))\n",
    "\n",
    "# Creating the bar plot\n",
    "plt.bar(experience, mean_salary)\n",
    "\n",
    "# Adding labels and title to the plot\n",
    "plt.xlabel('Experience')\n",
    "plt.ylabel('Mean Salary')\n",
    "plt.title('Experience vs Salary')\n",
    "plt.xticks(rotation=45)\n",
    "\n",
    "\n",
    "# Displaying the plot\n",
    "plt.show()"
   ]
  },
  {
   "cell_type": "markdown",
   "id": "70cb67ce",
   "metadata": {},
   "source": [
    "From this graph we can see that as the year of experience increases the salary also increases."
   ]
  },
  {
   "cell_type": "markdown",
   "id": "ae5f26a6",
   "metadata": {},
   "source": [
    "Based on the provided graph, we can see that the job role of a data scientist generally offers a higher mean salary. However, it's important to note that this is based on the mean salary and does not guarantee that data scientists always earn the highest salary. It's possible for individuals with significant experience as software engineers to earn a higher salary in that role as well. Salary potential can vary depending on various factors such as experience, skills, industry demand, and individual negotiations."
   ]
  },
  {
   "cell_type": "code",
   "execution_count": 54,
   "id": "432b00c6",
   "metadata": {},
   "outputs": [],
   "source": [
    "df3 = df2.copy()\n",
    "\n",
    "def categorize_skills(skill):\n",
    "    if re.search(r'\\b(sql|NoSQL|Scala|python|java|C|javascript|R|css)\\b', skill, re.IGNORECASE):\n",
    "        return 'Languages'\n",
    "    elif re.search(r'\\b(mongodb|Mysql)\\b', skill, re.IGNORECASE):\n",
    "        return 'Databases'\n",
    "    elif re.search(r'\\b(aws|azure|gcp|oracle)\\b', skill, re.IGNORECASE):\n",
    "        return 'Cloud'\n",
    "    elif re.search(r'\\b(django|Node\\.js|Angular)\\b', skill, re.IGNORECASE):\n",
    "        return 'Frameworks'\n",
    "    elif re.search(r'\\b(PowerBI|Tableau|Excel)\\b', skill, re.IGNORECASE):\n",
    "        return 'Tools'\n",
    "    else:\n",
    "        return 'Other'\n",
    "\n",
    "df3['CATEGORY'] = df3['SKILLS'].apply(categorize_skills)"
   ]
  },
  {
   "cell_type": "code",
   "execution_count": 55,
   "id": "e22775c9",
   "metadata": {},
   "outputs": [],
   "source": [
    "df3.to_csv('df3.csv', index=False)"
   ]
  },
  {
   "cell_type": "markdown",
   "id": "cfb98278",
   "metadata": {},
   "source": [
    "To ensure the correct distribution of data, I will save this DataFrame to an Excel file and review it there. Excel provides a convenient platform for verifying data distribution, and personally, I find it more convenient to perform such checks using Excel. Although we can do that here also."
   ]
  },
  {
   "cell_type": "code",
   "execution_count": 56,
   "id": "b4738f4e",
   "metadata": {},
   "outputs": [
    {
     "data": {
      "text/html": [
       "<div>\n",
       "<style scoped>\n",
       "    .dataframe tbody tr th:only-of-type {\n",
       "        vertical-align: middle;\n",
       "    }\n",
       "\n",
       "    .dataframe tbody tr th {\n",
       "        vertical-align: top;\n",
       "    }\n",
       "\n",
       "    .dataframe thead th {\n",
       "        text-align: right;\n",
       "    }\n",
       "</style>\n",
       "<table border=\"1\" class=\"dataframe\">\n",
       "  <thead>\n",
       "    <tr style=\"text-align: right;\">\n",
       "      <th></th>\n",
       "      <th>COMPANY</th>\n",
       "      <th>EXPERIENCE</th>\n",
       "      <th>LOCATION</th>\n",
       "      <th>TITLE</th>\n",
       "      <th>SALARY</th>\n",
       "      <th>SKILLS</th>\n",
       "    </tr>\n",
       "  </thead>\n",
       "  <tbody>\n",
       "    <tr>\n",
       "      <th>0</th>\n",
       "      <td>Audi India</td>\n",
       "      <td>7 - 10 yrs</td>\n",
       "      <td>Mumbai</td>\n",
       "      <td>Data Scientist</td>\n",
       "      <td>1000000</td>\n",
       "      <td>Django</td>\n",
       "    </tr>\n",
       "    <tr>\n",
       "      <th>1</th>\n",
       "      <td>Head-field hiring for Head field sol</td>\n",
       "      <td>0 - 2 yrs</td>\n",
       "      <td>Kolkata</td>\n",
       "      <td>Consultant</td>\n",
       "      <td>300000</td>\n",
       "      <td>SQL</td>\n",
       "    </tr>\n",
       "    <tr>\n",
       "      <th>2</th>\n",
       "      <td>Multi Commodity Exchange of India</td>\n",
       "      <td>7 - 10 yrs</td>\n",
       "      <td>Bangalore</td>\n",
       "      <td>Software Engineer</td>\n",
       "      <td>1000000</td>\n",
       "      <td>CSS</td>\n",
       "    </tr>\n",
       "    <tr>\n",
       "      <th>3</th>\n",
       "      <td>Falcon Services</td>\n",
       "      <td>Freshers</td>\n",
       "      <td>Bangalore</td>\n",
       "      <td>Data Analyst</td>\n",
       "      <td>200000</td>\n",
       "      <td>Azure</td>\n",
       "    </tr>\n",
       "    <tr>\n",
       "      <th>4</th>\n",
       "      <td>DK Energy</td>\n",
       "      <td>7 - 10 yrs</td>\n",
       "      <td>Bangalore</td>\n",
       "      <td>Data Scientist</td>\n",
       "      <td>1000000</td>\n",
       "      <td>JavaScript</td>\n",
       "    </tr>\n",
       "  </tbody>\n",
       "</table>\n",
       "</div>"
      ],
      "text/plain": [
       "                                COMPANY  EXPERIENCE   LOCATION  \\\n",
       "0                            Audi India  7 - 10 yrs     Mumbai   \n",
       "1  Head-field hiring for Head field sol   0 - 2 yrs    Kolkata   \n",
       "2     Multi Commodity Exchange of India  7 - 10 yrs  Bangalore   \n",
       "3                       Falcon Services    Freshers  Bangalore   \n",
       "4                             DK Energy  7 - 10 yrs  Bangalore   \n",
       "\n",
       "               TITLE   SALARY      SKILLS  \n",
       "0     Data Scientist  1000000      Django  \n",
       "1         Consultant   300000         SQL  \n",
       "2  Software Engineer  1000000         CSS  \n",
       "3       Data Analyst   200000       Azure  \n",
       "4     Data Scientist  1000000  JavaScript  "
      ]
     },
     "execution_count": 56,
     "metadata": {},
     "output_type": "execute_result"
    }
   ],
   "source": [
    "df2.head()"
   ]
  },
  {
   "cell_type": "code",
   "execution_count": 57,
   "id": "4b3e837f",
   "metadata": {},
   "outputs": [
    {
     "data": {
      "text/html": [
       "<div>\n",
       "<style scoped>\n",
       "    .dataframe tbody tr th:only-of-type {\n",
       "        vertical-align: middle;\n",
       "    }\n",
       "\n",
       "    .dataframe tbody tr th {\n",
       "        vertical-align: top;\n",
       "    }\n",
       "\n",
       "    .dataframe thead th {\n",
       "        text-align: right;\n",
       "    }\n",
       "</style>\n",
       "<table border=\"1\" class=\"dataframe\">\n",
       "  <thead>\n",
       "    <tr style=\"text-align: right;\">\n",
       "      <th></th>\n",
       "      <th>COMPANY</th>\n",
       "      <th>EXPERIENCE</th>\n",
       "      <th>LOCATION</th>\n",
       "      <th>TITLE</th>\n",
       "      <th>SALARY</th>\n",
       "      <th>SKILLS</th>\n",
       "      <th>CATEGORY</th>\n",
       "    </tr>\n",
       "  </thead>\n",
       "  <tbody>\n",
       "    <tr>\n",
       "      <th>0</th>\n",
       "      <td>Audi India</td>\n",
       "      <td>7 - 10 yrs</td>\n",
       "      <td>Mumbai</td>\n",
       "      <td>Data Scientist</td>\n",
       "      <td>1000000</td>\n",
       "      <td>Django</td>\n",
       "      <td>Frameworks</td>\n",
       "    </tr>\n",
       "    <tr>\n",
       "      <th>1</th>\n",
       "      <td>Head-field hiring for Head field sol</td>\n",
       "      <td>0 - 2 yrs</td>\n",
       "      <td>Kolkata</td>\n",
       "      <td>Consultant</td>\n",
       "      <td>300000</td>\n",
       "      <td>SQL</td>\n",
       "      <td>Languages</td>\n",
       "    </tr>\n",
       "    <tr>\n",
       "      <th>2</th>\n",
       "      <td>Multi Commodity Exchange of India</td>\n",
       "      <td>7 - 10 yrs</td>\n",
       "      <td>Bangalore</td>\n",
       "      <td>Software Engineer</td>\n",
       "      <td>1000000</td>\n",
       "      <td>CSS</td>\n",
       "      <td>Languages</td>\n",
       "    </tr>\n",
       "    <tr>\n",
       "      <th>3</th>\n",
       "      <td>Falcon Services</td>\n",
       "      <td>Freshers</td>\n",
       "      <td>Bangalore</td>\n",
       "      <td>Data Analyst</td>\n",
       "      <td>200000</td>\n",
       "      <td>Azure</td>\n",
       "      <td>Cloud</td>\n",
       "    </tr>\n",
       "    <tr>\n",
       "      <th>4</th>\n",
       "      <td>DK Energy</td>\n",
       "      <td>7 - 10 yrs</td>\n",
       "      <td>Bangalore</td>\n",
       "      <td>Data Scientist</td>\n",
       "      <td>1000000</td>\n",
       "      <td>JavaScript</td>\n",
       "      <td>Languages</td>\n",
       "    </tr>\n",
       "  </tbody>\n",
       "</table>\n",
       "</div>"
      ],
      "text/plain": [
       "                                COMPANY  EXPERIENCE   LOCATION  \\\n",
       "0                            Audi India  7 - 10 yrs     Mumbai   \n",
       "1  Head-field hiring for Head field sol   0 - 2 yrs    Kolkata   \n",
       "2     Multi Commodity Exchange of India  7 - 10 yrs  Bangalore   \n",
       "3                       Falcon Services    Freshers  Bangalore   \n",
       "4                             DK Energy  7 - 10 yrs  Bangalore   \n",
       "\n",
       "               TITLE   SALARY      SKILLS    CATEGORY  \n",
       "0     Data Scientist  1000000      Django  Frameworks  \n",
       "1         Consultant   300000         SQL   Languages  \n",
       "2  Software Engineer  1000000         CSS   Languages  \n",
       "3       Data Analyst   200000       Azure       Cloud  \n",
       "4     Data Scientist  1000000  JavaScript   Languages  "
      ]
     },
     "execution_count": 57,
     "metadata": {},
     "output_type": "execute_result"
    }
   ],
   "source": [
    "df3.head()"
   ]
  },
  {
   "cell_type": "markdown",
   "id": "f226cd48",
   "metadata": {},
   "source": [
    "Perfect so far :)"
   ]
  },
  {
   "cell_type": "markdown",
   "id": "2ffe279e",
   "metadata": {},
   "source": [
    "Let's enhance our previous function 'plot_skills_for_job_role' that displayed the top skills for a specific job. This time, we will include an additional parameter, the skill category, allowing us to showcase skills related to that particular category only."
   ]
  },
  {
   "cell_type": "code",
   "execution_count": 58,
   "id": "45e31f4b",
   "metadata": {},
   "outputs": [],
   "source": [
    "def plot_skills_required(df3):\n",
    "    # Ask the user for the specific job role\n",
    "    job_role = input(\"Enter the job role (or leave empty for all job roles): \").lower()\n",
    "\n",
    "    # Ask the user for the specific category\n",
    "    category = input(\"Enter the category (or leave empty for all categories): \").lower()\n",
    "\n",
    "    if job_role and category:\n",
    "        # Filter the dataframe based on the job role and category\n",
    "        filtered_df = df3[(df3['TITLE'].str.lower() == job_role) & (df3['CATEGORY'].str.lower() == category)]\n",
    "        title = f\"Skills Required for {job_role} ({category} Category)\"\n",
    "    elif job_role:\n",
    "        # Filter the dataframe based on the job role\n",
    "        filtered_df = df3[df3['TITLE'].str.lower() == job_role]\n",
    "        title = f\"Skills Required for {job_role}\"\n",
    "    elif category:\n",
    "        # Filter the dataframe based on the category\n",
    "        filtered_df = df3[df3['CATEGORY'].str.lower() == category]\n",
    "        title = f\"Skills Required ({category} Category)\"\n",
    "    else:\n",
    "        # No specific job role or category selected, plot for all job roles and skills\n",
    "        filtered_df = df3\n",
    "        title = \"Skills Required for All Job Roles\"\n",
    "\n",
    "    # Count the occurrences of each skill\n",
    "    skills_counts = filtered_df['SKILLS'].value_counts().sort_values()\n",
    "\n",
    "    # Plot the skills\n",
    "    plt.figure(figsize=(12, 6))\n",
    "    skills_counts.plot(kind='bar')\n",
    "    plt.xlabel('Skills')\n",
    "    plt.ylabel('Count')\n",
    "    plt.title(title)\n",
    "    plt.xticks(rotation=45)\n",
    "    plt.show()"
   ]
  },
  {
   "cell_type": "code",
   "execution_count": 59,
   "id": "99c7fffe",
   "metadata": {
    "scrolled": false
   },
   "outputs": [
    {
     "data": {
      "text/plain": [
       "Languages     9583\n",
       "Cloud         2182\n",
       "Tools         2041\n",
       "Frameworks     582\n",
       "Databases      193\n",
       "Name: CATEGORY, dtype: int64"
      ]
     },
     "execution_count": 59,
     "metadata": {},
     "output_type": "execute_result"
    }
   ],
   "source": [
    "skills_counts = df3['CATEGORY'].value_counts()\n",
    "\n",
    "skills_counts"
   ]
  },
  {
   "cell_type": "code",
   "execution_count": 61,
   "id": "32cfecf3",
   "metadata": {
    "scrolled": false
   },
   "outputs": [
    {
     "name": "stdout",
     "output_type": "stream",
     "text": [
      "Enter the job role (or leave empty for all job roles): Data scientist\n",
      "Enter the category (or leave empty for all categories): languages\n"
     ]
    },
    {
     "data": {
      "image/png": "[encoded data removed]",
      "text/plain": [
       "<Figure size 864x432 with 1 Axes>"
      ]
     },
     "metadata": {
      "needs_background": "light"
     },
     "output_type": "display_data"
    }
   ],
   "source": [
    "plot_skills_required(df3)"
   ]
  },
  {
   "cell_type": "code",
   "execution_count": 62,
   "id": "24fa06ef",
   "metadata": {},
   "outputs": [],
   "source": [
    "# Extract the unique values from the 'EXPERIENCE' column\n",
    "experience_unique = df3['EXPERIENCE'].unique().tolist()\n",
    "\n",
    "# Save the unique values from the 'EXPERIENCE' column as a JSON file\n",
    "with open('experience.json', 'w') as json_file:\n",
    "    json.dump(experience_unique, json_file)\n",
    "\n",
    "# Extract the unique values from the 'LOCATION' column\n",
    "location_unique = df3['LOCATION'].unique().tolist()\n",
    "\n",
    "# Save the unique values from the 'LOCATION' column as a JSON file\n",
    "with open('location.json', 'w') as json_file:\n",
    "    json.dump(location_unique, json_file)\n",
    "    \n",
    "# Extract the unique values from the 'TITLE' column\n",
    "title_unique = df3['TITLE'].unique().tolist()\n",
    "\n",
    "# Save the unique values from the 'TITLE' column as a JSON file\n",
    "with open('title.json', 'w') as json_file:\n",
    "    json.dump(title_unique, json_file)\n",
    "\n",
    "# Extract the unique values from the 'SKILLS' column\n",
    "skills_unique = df3['SKILLS'].unique().tolist()\n",
    "\n",
    "# Save the unique values from the 'SKILLS' column as a JSON file\n",
    "with open('skills.json', 'w') as json_file:\n",
    "    json.dump(skills_unique, json_file)\n",
    "\n",
    "# Extract the unique values from the 'CATEGORY' column\n",
    "category_unique = df3['CATEGORY'].unique().tolist()\n",
    "\n",
    "# Save the unique values from the 'CATEGORY' column as a JSON file\n",
    "with open('category.json', 'w') as json_file:\n",
    "    json.dump(category_unique, json_file)"
   ]
  },
  {
   "attachments": {},
   "cell_type": "markdown",
   "id": "aa05d132",
   "metadata": {},
   "source": [
    "# THANK YOU FOR READING "
   ]
  }
 ],
 "metadata": {
  "kernelspec": {
   "display_name": "Python 3 (ipykernel)",
   "language": "python",
   "name": "python3"
  },
  "language_info": {
   "codemirror_mode": {
    "name": "ipython",
    "version": 3
   },
   "file_extension": ".py",
   "mimetype": "text/x-python",
   "name": "python",
   "nbconvert_exporter": "python",
   "pygments_lexer": "ipython3",
   "version": "3.9.12"
  }
 },
 "nbformat": 4,
 "nbformat_minor": 5
}
